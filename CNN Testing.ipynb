{
  "nbformat": 4,
  "nbformat_minor": 0,
  "metadata": {
    "kernelspec": {
      "display_name": "Python 3.7.3 64-bit ('Rajat': virtualenv)",
      "language": "python",
      "name": "python37364bitrajatvirtualenv65f74abb879840c9a794ba1c4e3e1bab"
    },
    "language_info": {
      "codemirror_mode": {
        "name": "ipython",
        "version": 3
      },
      "file_extension": ".py",
      "mimetype": "text/x-python",
      "name": "python",
      "nbconvert_exporter": "python",
      "pygments_lexer": "ipython3",
      "version": "3.7.3-final"
    },
    "toc-autonumbering": true,
    "toc-showmarkdowntxt": false,
    "toc-showtags": false,
    "colab": {
      "name": "CNNs.ipynb",
      "provenance": [],
      "collapsed_sections": [],
      "toc_visible": true,
      "include_colab_link": true
    },
    "accelerator": "GPU"
  },
  "cells": [
    {
      "cell_type": "markdown",
      "metadata": {
        "id": "view-in-github",
        "colab_type": "text"
      },
      "source": [
        "<a href=\"https://colab.research.google.com/github/katyalrajat/CNN/blob/master/CNNs.ipynb\" target=\"_parent\"><img src=\"https://colab.research.google.com/assets/colab-badge.svg\" alt=\"Open In Colab\"/></a>"
      ]
    },
    {
      "cell_type": "markdown",
      "metadata": {
        "id": "XYvLY_GmhBs5"
      },
      "source": [
        "# SETUP"
      ]
    },
    {
      "cell_type": "markdown",
      "metadata": {
        "id": "2ne3uHPxhBs6"
      },
      "source": [
        "## Packages"
      ]
    },
    {
      "cell_type": "code",
      "metadata": {
        "id": "CcOU6ef6hBs7"
      },
      "source": [
        "# Data packages\n",
        "import pandas as pd             #always need this one\n",
        "import numpy as np              #always need this one\n",
        "import matplotlib.pyplot as plt #make plots\n",
        "from PIL import Image           # To grab the images and extract useful information\n",
        "import pickle                   #exporting and importing jars of data\n",
        "import os                       # To get working directory\n",
        "\n",
        "# Various scoring metrics from sklearn\n",
        "from sklearn.model_selection import train_test_split\n",
        "from sklearn.metrics import classification_report\n",
        "\n",
        "# What metric will you use?\n",
        "\n",
        "# Sew those seeds\n",
        "np.random.seed(42) # Set random seed\n",
        "RandomState = 42 # Life, the universe and everything\n",
        "\n",
        "# TensorFlow packages\n",
        "from tensorflow.keras.preprocessing.image import ImageDataGenerator\n",
        "import tensorflow as tf\n",
        "\n",
        "# You will need to import more tf components for sure!"
      ],
      "execution_count": null,
      "outputs": []
    },
    {
      "cell_type": "markdown",
      "metadata": {
        "id": "mGQzKfS_hBtA"
      },
      "source": [
        "# DATA SOURCES"
      ]
    },
    {
      "cell_type": "code",
      "metadata": {
        "id": "ixw9Pr7LC7Ql",
        "colab": {
          "base_uri": "https://localhost:8080/",
          "height": 121
        },
        "outputId": "e494ba49-c3e2-4ff0-c04d-c1d48333d7a4"
      },
      "source": [
        "from google.colab import drive\n",
        "drive.mount('/content/drive')"
      ],
      "execution_count": null,
      "outputs": [
        {
          "output_type": "stream",
          "text": [
            "Go to this URL in a browser: https://accounts.google.com/o/oauth2/auth?client_id=947318989803-6bn6qk8qdgf4n4g3pfee6491hc0brc4i.apps.googleusercontent.com&redirect_uri=urn%3aietf%3awg%3aoauth%3a2.0%3aoob&response_type=code&scope=email%20https%3a%2f%2fwww.googleapis.com%2fauth%2fdocs.test%20https%3a%2f%2fwww.googleapis.com%2fauth%2fdrive%20https%3a%2f%2fwww.googleapis.com%2fauth%2fdrive.photos.readonly%20https%3a%2f%2fwww.googleapis.com%2fauth%2fpeopleapi.readonly\n",
            "\n",
            "Enter your authorization code:\n",
            "··········\n",
            "Mounted at /content/drive\n"
          ],
          "name": "stdout"
        }
      ]
    },
    {
      "cell_type": "code",
      "metadata": {
        "id": "2LR4yJDUEw6n"
      },
      "source": [
        "!unzip -q \"/content/drive/My Drive/AT1B_example/AT1B_example/trn.zip\""
      ],
      "execution_count": null,
      "outputs": []
    },
    {
      "cell_type": "code",
      "metadata": {
        "id": "fEZN4UxibX5G"
      },
      "source": [
        "!unzip -q \"/content/drive/My Drive/AT1B_example/AT1B_example/tst.zip\""
      ],
      "execution_count": null,
      "outputs": []
    },
    {
      "cell_type": "code",
      "metadata": {
        "id": "6PwuDsNchBtB"
      },
      "source": [
        "train_dir = '/content/trn'\n",
        "test_dir = '/content/tst'"
      ],
      "execution_count": null,
      "outputs": []
    },
    {
      "cell_type": "markdown",
      "metadata": {
        "id": "1r61F6Q8hBtE"
      },
      "source": [
        "## Instantiate generator"
      ]
    },
    {
      "cell_type": "code",
      "metadata": {
        "id": "LeoBx-zKhBtH"
      },
      "source": [
        "# Make train generator\n",
        "train_datagen = ImageDataGenerator(rescale=1./255, rotation_range=40, width_shift_range=0.1, height_shift_range=0.1, shear_range=0.2, zoom_range=0.2, horizontal_flip=True, fill_mode='nearest', validation_split=0.2) # Making datagen with 20% validation split\n",
        "# Make test generator\n",
        "test_datagen = ImageDataGenerator(rescale=1./255)\n",
        "\n",
        "#batch_size= 20"
      ],
      "execution_count": null,
      "outputs": []
    },
    {
      "cell_type": "markdown",
      "metadata": {
        "id": "LdIEWMAvhBtK"
      },
      "source": [
        "## Instantiate flows"
      ]
    },
    {
      "cell_type": "code",
      "metadata": {
        "id": "J4tEJUinhBtL",
        "colab": {
          "base_uri": "https://localhost:8080/",
          "height": 67
        },
        "outputId": "d457d4f2-15e7-4577-d1fe-e626e7db8e7b"
      },
      "source": [
        "# Make trn flow\n",
        "train_dataflow = train_datagen.flow_from_directory(\n",
        "    directory= train_dir , #<--Train directory.\n",
        "    color_mode='rgb',       # RGB Color channel\n",
        "    class_mode='categorical', batch_size=32,       \n",
        "    target_size=(80,60),  #<--Force everything to scale to resolution of 80x60.\n",
        "    subset = \"training\"\n",
        "    )\n",
        "\n",
        "\n",
        "# Make val flow\n",
        "val_dataflow = train_datagen.flow_from_directory(\n",
        "   directory= train_dir ,      #<--Train directory.\n",
        "    color_mode='rgb',         # RGB Color channel\n",
        "    class_mode='categorical', batch_size=32,       \n",
        "    target_size=(80,60),  #<--Force everything to scale to resolution of 80x60.\n",
        "    subset = \"validation\"\n",
        "    )\n",
        "\n",
        "\n",
        "# Make test flow\n",
        "test_dataflow = test_datagen.flow_from_directory(\n",
        "     directory = test_dir,          #<--Test directory.\n",
        "    color_mode='rgb',             # RGB Color channel\n",
        "    class_mode='categorical', batch_size=32 ,      \n",
        "    target_size=(80,60),  #<--Force everything to scale to resolution of 80x60.\n",
        ")\n"
      ],
      "execution_count": null,
      "outputs": [
        {
          "output_type": "stream",
          "text": [
            "Found 24005 images belonging to 47 classes.\n",
            "Found 5975 images belonging to 47 classes.\n",
            "Found 10548 images belonging to 47 classes.\n"
          ],
          "name": "stdout"
        }
      ]
    },
    {
      "cell_type": "code",
      "metadata": {
        "id": "EYAgjW3bhBtN",
        "colab": {
          "base_uri": "https://localhost:8080/",
          "height": 34
        },
        "outputId": "d886a764-9e06-4c91-f329-2aaaa2522947"
      },
      "source": [
        "# Checking if the classes match\n",
        "if 47 == train_dataflow.class_indices.values().__len__():\n",
        "    print(\"Number of class labels match.\")\n",
        "else:\n",
        "    print(\"Number of class labels do NOT match. Need to check.\")"
      ],
      "execution_count": null,
      "outputs": [
        {
          "output_type": "stream",
          "text": [
            "Number of class labels match.\n"
          ],
          "name": "stdout"
        }
      ]
    },
    {
      "cell_type": "code",
      "metadata": {
        "id": "0NvZkRyrhBtR",
        "colab": {
          "base_uri": "https://localhost:8080/",
          "height": 67
        },
        "outputId": "8dfda22e-2642-47e2-859c-dd5a9a75905a"
      },
      "source": [
        "# Determine step size\n",
        "train_stepsize = train_dataflow.n // train_dataflow.batch_size\n",
        "val_stepsize = val_dataflow.n // val_dataflow.batch_size\n",
        "test_stepsize = test_dataflow.n // test_dataflow.batch_size\n",
        "\n",
        "print(\"Train StepSize: \", train_stepsize)\n",
        "print(\"Val StepSize: \", val_stepsize)\n",
        "print(\"Test StepSize: \", test_stepsize)"
      ],
      "execution_count": null,
      "outputs": [
        {
          "output_type": "stream",
          "text": [
            "Train StepSize:  750\n",
            "Val StepSize:  186\n",
            "Test StepSize:  329\n"
          ],
          "name": "stdout"
        }
      ]
    },
    {
      "cell_type": "markdown",
      "metadata": {
        "id": "0sx4x7M8hBtT"
      },
      "source": [
        "# PART ONE"
      ]
    },
    {
      "cell_type": "code",
      "metadata": {
        "id": "kaZR3QMMTkRh"
      },
      "source": [
        "import tensorflow as tf\n",
        "import numpy as np\n",
        "from tensorflow.keras.layers import Conv2D, Dense, MaxPooling2D, Flatten"
      ],
      "execution_count": null,
      "outputs": []
    },
    {
      "cell_type": "markdown",
      "metadata": {
        "id": "dK1WXYrHhBtU"
      },
      "source": [
        "## Build Model"
      ]
    },
    {
      "cell_type": "code",
      "metadata": {
        "id": "sOHrC3NfhBtU"
      },
      "source": [
        "tf.random.set_seed(168)   # Setting random seed to replicate results\n",
        "np.random.seed(168)       # Setting random seed to replicate results"
      ],
      "execution_count": null,
      "outputs": []
    },
    {
      "cell_type": "code",
      "metadata": {
        "id": "W2cPAFIuUIU1"
      },
      "source": [
        "model = tf.keras.Sequential()"
      ],
      "execution_count": null,
      "outputs": []
    },
    {
      "cell_type": "code",
      "metadata": {
        "id": "l1CxNWZ-URg_"
      },
      "source": [
        "conv_layer1 = Conv2D(128, (3,3), activation='relu', input_shape=(80, 60, 3)) # Input Conv Layer\n",
        "conv_layer2 = Conv2D(64, (3,3), activation='relu') #2nd conv layer"
      ],
      "execution_count": null,
      "outputs": []
    },
    {
      "cell_type": "code",
      "metadata": {
        "id": "6LuaaeuxUt1f"
      },
      "source": [
        "fc_layer = Dense(47, activation='softmax') # fully connected layer with output classes = 47"
      ],
      "execution_count": null,
      "outputs": []
    },
    {
      "cell_type": "code",
      "metadata": {
        "id": "x7DpH_AdU4WQ"
      },
      "source": [
        "max_pool = MaxPooling2D(2, 2) # Max pooling layer"
      ],
      "execution_count": null,
      "outputs": []
    },
    {
      "cell_type": "code",
      "metadata": {
        "id": "lR6jABctU-l4"
      },
      "source": [
        "# Setup the model sequentially\n",
        "model.add(conv_layer1)\n",
        "model.add(conv_layer2)\n",
        "model.add(max_pool)\n",
        "model.add(Flatten())\n",
        "model.add(fc_layer)"
      ],
      "execution_count": null,
      "outputs": []
    },
    {
      "cell_type": "code",
      "metadata": {
        "id": "NUP_BsE9DDF-"
      },
      "source": [
        "optimizer = tf.keras.optimizers.Adam(0.001) # using Adam optimiser"
      ],
      "execution_count": null,
      "outputs": []
    },
    {
      "cell_type": "code",
      "metadata": {
        "id": "KloPxRnbDDGC"
      },
      "source": [
        "# Compiling the model\n",
        "model.compile(loss='categorical_crossentropy', optimizer=optimizer, metrics=['accuracy']) # compiling the model with categorical cross entropy loss funciton"
      ],
      "execution_count": null,
      "outputs": []
    },
    {
      "cell_type": "code",
      "metadata": {
        "id": "-gufp822Z7Vj",
        "colab": {
          "base_uri": "https://localhost:8080/",
          "height": 319
        },
        "outputId": "5ae1f4ff-f5c1-4da5-941d-b199ad8dac67"
      },
      "source": [
        "model.summary() # showing model summary"
      ],
      "execution_count": null,
      "outputs": [
        {
          "output_type": "stream",
          "text": [
            "Model: \"sequential\"\n",
            "_________________________________________________________________\n",
            "Layer (type)                 Output Shape              Param #   \n",
            "=================================================================\n",
            "conv2d (Conv2D)              (None, 78, 58, 128)       3584      \n",
            "_________________________________________________________________\n",
            "conv2d_1 (Conv2D)            (None, 76, 56, 64)        73792     \n",
            "_________________________________________________________________\n",
            "max_pooling2d (MaxPooling2D) (None, 38, 28, 64)        0         \n",
            "_________________________________________________________________\n",
            "flatten (Flatten)            (None, 68096)             0         \n",
            "_________________________________________________________________\n",
            "dense (Dense)                (None, 47)                3200559   \n",
            "=================================================================\n",
            "Total params: 3,277,935\n",
            "Trainable params: 3,277,935\n",
            "Non-trainable params: 0\n",
            "_________________________________________________________________\n"
          ],
          "name": "stdout"
        }
      ]
    },
    {
      "cell_type": "markdown",
      "metadata": {
        "id": "4QYfurVwhBtW"
      },
      "source": [
        "## Train Model"
      ]
    },
    {
      "cell_type": "code",
      "metadata": {
        "id": "7O_k4oPAhBtW",
        "colab": {
          "base_uri": "https://localhost:8080/",
          "height": 34
        },
        "outputId": "aa1d4b3a-2e50-45fd-a6e0-2004e3e921f1"
      },
      "source": [
        "# Train the model\n",
        "history = model.fit(train_dataflow\n",
        "                    ,steps_per_epoch= train_stepsize \n",
        "                    ,validation_data=val_dataflow\n",
        "                    ,validation_steps= val_stepsize \n",
        "                    ,epochs= 1\n",
        "                   )"
      ],
      "execution_count": null,
      "outputs": [
        {
          "output_type": "stream",
          "text": [
            "750/750 [==============================] - 62s 83ms/step - loss: 2.2479 - accuracy: 0.3652 - val_loss: 2.1350 - val_accuracy: 0.4148\n"
          ],
          "name": "stdout"
        }
      ]
    },
    {
      "cell_type": "markdown",
      "metadata": {
        "id": "cf_ke10MhBtZ"
      },
      "source": [
        "## Predict & Assess"
      ]
    },
    {
      "cell_type": "code",
      "metadata": {
        "id": "hVnlCOeMhBtZ"
      },
      "source": [
        "# Create prediction\n",
        "pred = model.predict(test_dataflow )"
      ],
      "execution_count": null,
      "outputs": []
    },
    {
      "cell_type": "code",
      "metadata": {
        "id": "VFY1Ftzwky5a"
      },
      "source": [
        "pred_test = np.argmax(pred, 1) # predicting the class with the highest score as true or 1 "
      ],
      "execution_count": null,
      "outputs": []
    },
    {
      "cell_type": "code",
      "metadata": {
        "id": "kvX7HzXlhw4K",
        "colab": {
          "base_uri": "https://localhost:8080/",
          "height": 151
        },
        "outputId": "0f32524d-38f4-4998-c0c5-c85fc4df44be"
      },
      "source": [
        "tf.math.confusion_matrix(pred_test, test_dataflow.classes , num_classes=47)   #confusion matrix"
      ],
      "execution_count": null,
      "outputs": [
        {
          "output_type": "execute_result",
          "data": {
            "text/plain": [
              "<tf.Tensor: shape=(47, 47), dtype=int32, numpy=\n",
              "array([[ 4,  2,  9, ...,  2,  1,  0],\n",
              "       [ 0,  1,  2, ...,  2,  0,  0],\n",
              "       [ 6,  4, 16, ...,  2,  0,  1],\n",
              "       ...,\n",
              "       [ 1,  0, 10, ...,  0,  0,  0],\n",
              "       [ 0,  0,  0, ...,  0,  0,  0],\n",
              "       [ 0,  0,  0, ...,  0,  0,  0]], dtype=int32)>"
            ]
          },
          "metadata": {
            "tags": []
          },
          "execution_count": 24
        }
      ]
    },
    {
      "cell_type": "code",
      "metadata": {
        "id": "T95OpDWeB2kO",
        "colab": {
          "base_uri": "https://localhost:8080/",
          "height": 756
        },
        "outputId": "6894ad21-1a07-4a87-daa6-63c7a5588199"
      },
      "source": [
        " from sklearn.metrics import classification_report\n",
        "\n",
        " print(classification_report(pred_test, test_dataflow.classes, labels=np.unique(pred_test)))           # Running a classification report to check the metrics for each predicted class"
      ],
      "execution_count": null,
      "outputs": [
        {
          "output_type": "stream",
          "text": [
            "              precision    recall  f1-score   support\n",
            "\n",
            "           0       0.02      0.01      0.02       268\n",
            "           1       0.01      0.02      0.02        41\n",
            "           2       0.03      0.05      0.04       340\n",
            "           3       0.02      0.02      0.02       254\n",
            "           4       0.06      0.03      0.04       518\n",
            "           5       0.00      0.00      0.00        36\n",
            "           6       0.01      0.00      0.01       261\n",
            "           7       0.01      0.01      0.01       197\n",
            "           8       0.01      0.02      0.02        47\n",
            "           9       0.05      0.03      0.03       420\n",
            "          10       0.05      0.07      0.06       555\n",
            "          11       0.00      0.00      0.00         4\n",
            "          12       0.00      0.00      0.00         1\n",
            "          13       0.00      0.00      0.00        22\n",
            "          14       0.00      0.00      0.00        13\n",
            "          15       0.06      0.03      0.03       319\n",
            "          17       0.00      0.00      0.00        35\n",
            "          18       0.00      0.00      0.00        45\n",
            "          19       0.00      0.00      0.00         1\n",
            "          20       0.00      0.00      0.00         1\n",
            "          22       0.00      0.00      0.00        39\n",
            "          24       0.00      0.00      0.00        13\n",
            "          25       0.08      0.05      0.06       784\n",
            "          27       0.03      0.06      0.04       419\n",
            "          29       0.00      0.00      0.00         1\n",
            "          30       0.03      0.04      0.04       357\n",
            "          31       0.25      0.17      0.20      2618\n",
            "          33       0.03      0.02      0.02       281\n",
            "          34       0.01      0.03      0.01        63\n",
            "          35       0.04      0.07      0.05       422\n",
            "          37       0.04      0.01      0.02       625\n",
            "          38       0.03      0.07      0.04       135\n",
            "          40       0.07      0.05      0.06       806\n",
            "          41       0.01      0.03      0.02        29\n",
            "          42       0.03      0.01      0.02       311\n",
            "          43       0.00      0.00      0.00       118\n",
            "          44       0.00      0.00      0.00       149\n",
            "\n",
            "   micro avg       0.07      0.07      0.07     10548\n",
            "   macro avg       0.03      0.02      0.02     10548\n",
            "weighted avg       0.09      0.07      0.08     10548\n",
            "\n"
          ],
          "name": "stdout"
        }
      ]
    },
    {
      "cell_type": "code",
      "metadata": {
        "id": "9BptYJBUfA1q"
      },
      "source": [
        "def get_key(val):                                                       #Function to get value from key - source: https://www.geeksforgeeks.org/python-get-key-from-value-in-dictionary/\n",
        "    for key, value in test_dataflow.class_indices.items(): \n",
        "         if val == value: \n",
        "             return key \n",
        "  \n",
        "    return \"key doesn't exist\""
      ],
      "execution_count": null,
      "outputs": []
    },
    {
      "cell_type": "code",
      "metadata": {
        "id": "on1JAb0dfQGU",
        "colab": {
          "base_uri": "https://localhost:8080/",
          "height": 34
        },
        "outputId": "e9460d5e-e0ac-4a75-8f61-338952141fe3"
      },
      "source": [
        "print(get_key(5))                                                        # Testing the list"
      ],
      "execution_count": null,
      "outputs": [
        {
          "output_type": "stream",
          "text": [
            "Accessories_Headwear_Caps\n"
          ],
          "name": "stdout"
        }
      ]
    },
    {
      "cell_type": "code",
      "metadata": {
        "id": "hRYMFa6ocbI7"
      },
      "source": [
        "# print(classification_report(pred_test, test_dataflow.classes, labels= get_key(np.unique(pred_test)))) # Lables not printing, so we will just cross reference the lables disctionary"
      ],
      "execution_count": null,
      "outputs": []
    },
    {
      "cell_type": "code",
      "metadata": {
        "id": "bvexAc6jlr9G",
        "colab": {
          "base_uri": "https://localhost:8080/",
          "height": 806
        },
        "outputId": "bbe06b0f-bb3b-4559-d330-14a8438dfb30"
      },
      "source": [
        "test_dataflow.class_indices"
      ],
      "execution_count": null,
      "outputs": [
        {
          "output_type": "execute_result",
          "data": {
            "text/plain": [
              "{'Accessories_Bags_Backpacks': 0,\n",
              " 'Accessories_Bags_Clutches': 1,\n",
              " 'Accessories_Bags_Handbags': 2,\n",
              " 'Accessories_Belts_Belts': 3,\n",
              " 'Accessories_Eyewear_Sunglasses': 4,\n",
              " 'Accessories_Headwear_Caps': 5,\n",
              " 'Accessories_Jewellery_Earrings': 6,\n",
              " 'Accessories_Socks_Socks': 7,\n",
              " 'Accessories_Ties_Ties': 8,\n",
              " 'Accessories_Wallets_Wallets': 9,\n",
              " 'Accessories_Watches_Watches': 10,\n",
              " 'Apparel_Bottomwear_Jeans': 11,\n",
              " 'Apparel_Bottomwear_Leggings': 12,\n",
              " 'Apparel_Bottomwear_Shorts': 13,\n",
              " 'Apparel_Bottomwear_Track Pants': 14,\n",
              " 'Apparel_Bottomwear_Trousers': 15,\n",
              " 'Apparel_Dress_Dresses': 16,\n",
              " 'Apparel_Innerwear_Bra': 17,\n",
              " 'Apparel_Innerwear_Briefs': 18,\n",
              " 'Apparel_Innerwear_Innerwear Vests': 19,\n",
              " 'Apparel_Loungewear and Nightwear_Nightdress': 20,\n",
              " 'Apparel_Loungewear and Nightwear_Shorts': 21,\n",
              " 'Apparel_Saree_Sarees': 22,\n",
              " 'Apparel_Topwear_Belts': 23,\n",
              " 'Apparel_Topwear_Jackets': 24,\n",
              " 'Apparel_Topwear_Kurtas': 25,\n",
              " 'Apparel_Topwear_Kurtis': 26,\n",
              " 'Apparel_Topwear_Shirts': 27,\n",
              " 'Apparel_Topwear_Sweaters': 28,\n",
              " 'Apparel_Topwear_Sweatshirts': 29,\n",
              " 'Apparel_Topwear_Tops': 30,\n",
              " 'Apparel_Topwear_Tshirts': 31,\n",
              " 'Apparel_Topwear_Tunics': 32,\n",
              " 'Footwear_Flip Flops_Flip Flops': 33,\n",
              " 'Footwear_Sandal_Sandals': 34,\n",
              " 'Footwear_Shoes_Casual Shoes': 35,\n",
              " 'Footwear_Shoes_Flats': 36,\n",
              " 'Footwear_Shoes_Formal Shoes': 37,\n",
              " 'Footwear_Shoes_Heels': 38,\n",
              " 'Footwear_Shoes_Sandals': 39,\n",
              " 'Footwear_Shoes_Sports Shoes': 40,\n",
              " 'Personal Care_Fragrance_Deodorant': 41,\n",
              " 'Personal Care_Fragrance_Perfume and Body Mist': 42,\n",
              " 'Personal Care_Lips_Lipstick': 43,\n",
              " 'Personal Care_Nails_Nail Polish': 44,\n",
              " 'Personal Care_Perfumes_Perfume and Body Mist': 45,\n",
              " 'Sporting Goods_Sports Equipment_Basketballs': 46}"
            ]
          },
          "metadata": {
            "tags": []
          },
          "execution_count": 45
        }
      ]
    },
    {
      "cell_type": "markdown",
      "metadata": {
        "id": "5E2EbaL5hBtb"
      },
      "source": [
        "# PART TWO"
      ]
    },
    {
      "cell_type": "markdown",
      "metadata": {
        "id": "S9rlCd_ihBtc"
      },
      "source": [
        "## Import Model"
      ]
    },
    {
      "cell_type": "markdown",
      "metadata": {
        "id": "1L3_pURMhBtc"
      },
      "source": [
        "Let's import a 'raw' model from someone else's hard work. In this instance, the MobileNetV2 model was chosen. I used this model as it seemed to have a higher  accuracy/computation cost."
      ]
    },
    {
      "cell_type": "code",
      "metadata": {
        "id": "08bMXZvIhBtd"
      },
      "source": [
        "# Import\n",
        "from tensorflow.keras.applications import MobileNetV2 #Loading mobilenetv2\n"
      ],
      "execution_count": null,
      "outputs": []
    },
    {
      "cell_type": "markdown",
      "metadata": {
        "id": "DMSYzivkKAis"
      },
      "source": [
        "Resizing the images to a square shape [96*96] as that's the minimum input size requirement for MobileNetV2 model and updating the dataflow."
      ]
    },
    {
      "cell_type": "code",
      "metadata": {
        "id": "tERC82UlZigW",
        "colab": {
          "base_uri": "https://localhost:8080/",
          "height": 67
        },
        "outputId": "3fc125c7-afed-45eb-bd51-fe6755da40cb"
      },
      "source": [
        "# Make trn flow\n",
        "train_dataflow = train_datagen.flow_from_directory(\n",
        "    directory= train_dir , #<--Train directory.\n",
        "    color_mode='rgb', \n",
        "    class_mode='categorical', batch_size=32,       \n",
        "    target_size=(96,96),  #<--Force everything to scale to resolution of 80x60.\n",
        "    subset = \"training\"\n",
        "    )\n",
        "\n",
        "# Check out here for more elements you will want to set. https://keras.io/api/preprocessing/image/\n",
        "# Advice: Set color_mode, batch_size, class_mode, subset (important!)\n",
        "\n",
        "# Make val flow\n",
        "val_dataflow = train_datagen.flow_from_directory(\n",
        "   directory= train_dir ,      #<--Train directory.\n",
        "    color_mode='rgb', \n",
        "    class_mode='categorical', batch_size=32,       \n",
        "    target_size=(96,96),  #<--Force everything to scale to resolution of 80x60.\n",
        "    subset = \"validation\"\n",
        "    )\n",
        "\n",
        "# The subset argument is particularly important here. As well as those noted above. \n",
        "\n",
        "# Make test flow\n",
        "test_dataflow = test_datagen.flow_from_directory(\n",
        "     directory = test_dir,          #<--Test directory.\n",
        "    color_mode='rgb', \n",
        "    class_mode='categorical', batch_size=32 ,      \n",
        "    target_size=(96,96),  #<--Force everything to scale to resolution of 80x60.\n",
        "    shuffle = False\n",
        ")\n",
        "\n",
        "# Advice: Also set color_mode, class_mode"
      ],
      "execution_count": null,
      "outputs": [
        {
          "output_type": "stream",
          "text": [
            "Found 24005 images belonging to 47 classes.\n",
            "Found 5975 images belonging to 47 classes.\n",
            "Found 10548 images belonging to 47 classes.\n"
          ],
          "name": "stdout"
        }
      ]
    },
    {
      "cell_type": "code",
      "metadata": {
        "id": "cYsoPgkCKP0_"
      },
      "source": [
        "input_shape = (96,96,3)"
      ],
      "execution_count": null,
      "outputs": []
    },
    {
      "cell_type": "code",
      "metadata": {
        "id": "oaj8aVGYCa3M",
        "colab": {
          "base_uri": "https://localhost:8080/",
          "height": 50
        },
        "outputId": "50b25659-b41a-4852-caad-743ba9833260"
      },
      "source": [
        "# Load model\n",
        "model_2 = MobileNetV2(input_shape=input_shape, weights='imagenet', include_top=False)"
      ],
      "execution_count": null,
      "outputs": [
        {
          "output_type": "stream",
          "text": [
            "Downloading data from https://storage.googleapis.com/tensorflow/keras-applications/mobilenet_v2/mobilenet_v2_weights_tf_dim_ordering_tf_kernels_1.0_96_no_top.h5\n",
            "9412608/9406464 [==============================] - 0s 0us/step\n"
          ],
          "name": "stdout"
        }
      ]
    },
    {
      "cell_type": "code",
      "metadata": {
        "id": "kUrMq9adLBIr"
      },
      "source": [
        "model_2.trainable = False # Using the predefined weights"
      ],
      "execution_count": null,
      "outputs": []
    },
    {
      "cell_type": "code",
      "metadata": {
        "id": "ojz75AtMLRjN",
        "colab": {
          "base_uri": "https://localhost:8080/",
          "height": 1000
        },
        "outputId": "750b8b7e-982c-4f15-c793-77c6c81585f2"
      },
      "source": [
        "model_2.summary()"
      ],
      "execution_count": null,
      "outputs": [
        {
          "output_type": "stream",
          "text": [
            "Model: \"mobilenetv2_1.00_96\"\n",
            "__________________________________________________________________________________________________\n",
            "Layer (type)                    Output Shape         Param #     Connected to                     \n",
            "==================================================================================================\n",
            "input_1 (InputLayer)            [(None, 96, 96, 3)]  0                                            \n",
            "__________________________________________________________________________________________________\n",
            "Conv1_pad (ZeroPadding2D)       (None, 97, 97, 3)    0           input_1[0][0]                    \n",
            "__________________________________________________________________________________________________\n",
            "Conv1 (Conv2D)                  (None, 48, 48, 32)   864         Conv1_pad[0][0]                  \n",
            "__________________________________________________________________________________________________\n",
            "bn_Conv1 (BatchNormalization)   (None, 48, 48, 32)   128         Conv1[0][0]                      \n",
            "__________________________________________________________________________________________________\n",
            "Conv1_relu (ReLU)               (None, 48, 48, 32)   0           bn_Conv1[0][0]                   \n",
            "__________________________________________________________________________________________________\n",
            "expanded_conv_depthwise (Depthw (None, 48, 48, 32)   288         Conv1_relu[0][0]                 \n",
            "__________________________________________________________________________________________________\n",
            "expanded_conv_depthwise_BN (Bat (None, 48, 48, 32)   128         expanded_conv_depthwise[0][0]    \n",
            "__________________________________________________________________________________________________\n",
            "expanded_conv_depthwise_relu (R (None, 48, 48, 32)   0           expanded_conv_depthwise_BN[0][0] \n",
            "__________________________________________________________________________________________________\n",
            "expanded_conv_project (Conv2D)  (None, 48, 48, 16)   512         expanded_conv_depthwise_relu[0][0\n",
            "__________________________________________________________________________________________________\n",
            "expanded_conv_project_BN (Batch (None, 48, 48, 16)   64          expanded_conv_project[0][0]      \n",
            "__________________________________________________________________________________________________\n",
            "block_1_expand (Conv2D)         (None, 48, 48, 96)   1536        expanded_conv_project_BN[0][0]   \n",
            "__________________________________________________________________________________________________\n",
            "block_1_expand_BN (BatchNormali (None, 48, 48, 96)   384         block_1_expand[0][0]             \n",
            "__________________________________________________________________________________________________\n",
            "block_1_expand_relu (ReLU)      (None, 48, 48, 96)   0           block_1_expand_BN[0][0]          \n",
            "__________________________________________________________________________________________________\n",
            "block_1_pad (ZeroPadding2D)     (None, 49, 49, 96)   0           block_1_expand_relu[0][0]        \n",
            "__________________________________________________________________________________________________\n",
            "block_1_depthwise (DepthwiseCon (None, 24, 24, 96)   864         block_1_pad[0][0]                \n",
            "__________________________________________________________________________________________________\n",
            "block_1_depthwise_BN (BatchNorm (None, 24, 24, 96)   384         block_1_depthwise[0][0]          \n",
            "__________________________________________________________________________________________________\n",
            "block_1_depthwise_relu (ReLU)   (None, 24, 24, 96)   0           block_1_depthwise_BN[0][0]       \n",
            "__________________________________________________________________________________________________\n",
            "block_1_project (Conv2D)        (None, 24, 24, 24)   2304        block_1_depthwise_relu[0][0]     \n",
            "__________________________________________________________________________________________________\n",
            "block_1_project_BN (BatchNormal (None, 24, 24, 24)   96          block_1_project[0][0]            \n",
            "__________________________________________________________________________________________________\n",
            "block_2_expand (Conv2D)         (None, 24, 24, 144)  3456        block_1_project_BN[0][0]         \n",
            "__________________________________________________________________________________________________\n",
            "block_2_expand_BN (BatchNormali (None, 24, 24, 144)  576         block_2_expand[0][0]             \n",
            "__________________________________________________________________________________________________\n",
            "block_2_expand_relu (ReLU)      (None, 24, 24, 144)  0           block_2_expand_BN[0][0]          \n",
            "__________________________________________________________________________________________________\n",
            "block_2_depthwise (DepthwiseCon (None, 24, 24, 144)  1296        block_2_expand_relu[0][0]        \n",
            "__________________________________________________________________________________________________\n",
            "block_2_depthwise_BN (BatchNorm (None, 24, 24, 144)  576         block_2_depthwise[0][0]          \n",
            "__________________________________________________________________________________________________\n",
            "block_2_depthwise_relu (ReLU)   (None, 24, 24, 144)  0           block_2_depthwise_BN[0][0]       \n",
            "__________________________________________________________________________________________________\n",
            "block_2_project (Conv2D)        (None, 24, 24, 24)   3456        block_2_depthwise_relu[0][0]     \n",
            "__________________________________________________________________________________________________\n",
            "block_2_project_BN (BatchNormal (None, 24, 24, 24)   96          block_2_project[0][0]            \n",
            "__________________________________________________________________________________________________\n",
            "block_2_add (Add)               (None, 24, 24, 24)   0           block_1_project_BN[0][0]         \n",
            "                                                                 block_2_project_BN[0][0]         \n",
            "__________________________________________________________________________________________________\n",
            "block_3_expand (Conv2D)         (None, 24, 24, 144)  3456        block_2_add[0][0]                \n",
            "__________________________________________________________________________________________________\n",
            "block_3_expand_BN (BatchNormali (None, 24, 24, 144)  576         block_3_expand[0][0]             \n",
            "__________________________________________________________________________________________________\n",
            "block_3_expand_relu (ReLU)      (None, 24, 24, 144)  0           block_3_expand_BN[0][0]          \n",
            "__________________________________________________________________________________________________\n",
            "block_3_pad (ZeroPadding2D)     (None, 25, 25, 144)  0           block_3_expand_relu[0][0]        \n",
            "__________________________________________________________________________________________________\n",
            "block_3_depthwise (DepthwiseCon (None, 12, 12, 144)  1296        block_3_pad[0][0]                \n",
            "__________________________________________________________________________________________________\n",
            "block_3_depthwise_BN (BatchNorm (None, 12, 12, 144)  576         block_3_depthwise[0][0]          \n",
            "__________________________________________________________________________________________________\n",
            "block_3_depthwise_relu (ReLU)   (None, 12, 12, 144)  0           block_3_depthwise_BN[0][0]       \n",
            "__________________________________________________________________________________________________\n",
            "block_3_project (Conv2D)        (None, 12, 12, 32)   4608        block_3_depthwise_relu[0][0]     \n",
            "__________________________________________________________________________________________________\n",
            "block_3_project_BN (BatchNormal (None, 12, 12, 32)   128         block_3_project[0][0]            \n",
            "__________________________________________________________________________________________________\n",
            "block_4_expand (Conv2D)         (None, 12, 12, 192)  6144        block_3_project_BN[0][0]         \n",
            "__________________________________________________________________________________________________\n",
            "block_4_expand_BN (BatchNormali (None, 12, 12, 192)  768         block_4_expand[0][0]             \n",
            "__________________________________________________________________________________________________\n",
            "block_4_expand_relu (ReLU)      (None, 12, 12, 192)  0           block_4_expand_BN[0][0]          \n",
            "__________________________________________________________________________________________________\n",
            "block_4_depthwise (DepthwiseCon (None, 12, 12, 192)  1728        block_4_expand_relu[0][0]        \n",
            "__________________________________________________________________________________________________\n",
            "block_4_depthwise_BN (BatchNorm (None, 12, 12, 192)  768         block_4_depthwise[0][0]          \n",
            "__________________________________________________________________________________________________\n",
            "block_4_depthwise_relu (ReLU)   (None, 12, 12, 192)  0           block_4_depthwise_BN[0][0]       \n",
            "__________________________________________________________________________________________________\n",
            "block_4_project (Conv2D)        (None, 12, 12, 32)   6144        block_4_depthwise_relu[0][0]     \n",
            "__________________________________________________________________________________________________\n",
            "block_4_project_BN (BatchNormal (None, 12, 12, 32)   128         block_4_project[0][0]            \n",
            "__________________________________________________________________________________________________\n",
            "block_4_add (Add)               (None, 12, 12, 32)   0           block_3_project_BN[0][0]         \n",
            "                                                                 block_4_project_BN[0][0]         \n",
            "__________________________________________________________________________________________________\n",
            "block_5_expand (Conv2D)         (None, 12, 12, 192)  6144        block_4_add[0][0]                \n",
            "__________________________________________________________________________________________________\n",
            "block_5_expand_BN (BatchNormali (None, 12, 12, 192)  768         block_5_expand[0][0]             \n",
            "__________________________________________________________________________________________________\n",
            "block_5_expand_relu (ReLU)      (None, 12, 12, 192)  0           block_5_expand_BN[0][0]          \n",
            "__________________________________________________________________________________________________\n",
            "block_5_depthwise (DepthwiseCon (None, 12, 12, 192)  1728        block_5_expand_relu[0][0]        \n",
            "__________________________________________________________________________________________________\n",
            "block_5_depthwise_BN (BatchNorm (None, 12, 12, 192)  768         block_5_depthwise[0][0]          \n",
            "__________________________________________________________________________________________________\n",
            "block_5_depthwise_relu (ReLU)   (None, 12, 12, 192)  0           block_5_depthwise_BN[0][0]       \n",
            "__________________________________________________________________________________________________\n",
            "block_5_project (Conv2D)        (None, 12, 12, 32)   6144        block_5_depthwise_relu[0][0]     \n",
            "__________________________________________________________________________________________________\n",
            "block_5_project_BN (BatchNormal (None, 12, 12, 32)   128         block_5_project[0][0]            \n",
            "__________________________________________________________________________________________________\n",
            "block_5_add (Add)               (None, 12, 12, 32)   0           block_4_add[0][0]                \n",
            "                                                                 block_5_project_BN[0][0]         \n",
            "__________________________________________________________________________________________________\n",
            "block_6_expand (Conv2D)         (None, 12, 12, 192)  6144        block_5_add[0][0]                \n",
            "__________________________________________________________________________________________________\n",
            "block_6_expand_BN (BatchNormali (None, 12, 12, 192)  768         block_6_expand[0][0]             \n",
            "__________________________________________________________________________________________________\n",
            "block_6_expand_relu (ReLU)      (None, 12, 12, 192)  0           block_6_expand_BN[0][0]          \n",
            "__________________________________________________________________________________________________\n",
            "block_6_pad (ZeroPadding2D)     (None, 13, 13, 192)  0           block_6_expand_relu[0][0]        \n",
            "__________________________________________________________________________________________________\n",
            "block_6_depthwise (DepthwiseCon (None, 6, 6, 192)    1728        block_6_pad[0][0]                \n",
            "__________________________________________________________________________________________________\n",
            "block_6_depthwise_BN (BatchNorm (None, 6, 6, 192)    768         block_6_depthwise[0][0]          \n",
            "__________________________________________________________________________________________________\n",
            "block_6_depthwise_relu (ReLU)   (None, 6, 6, 192)    0           block_6_depthwise_BN[0][0]       \n",
            "__________________________________________________________________________________________________\n",
            "block_6_project (Conv2D)        (None, 6, 6, 64)     12288       block_6_depthwise_relu[0][0]     \n",
            "__________________________________________________________________________________________________\n",
            "block_6_project_BN (BatchNormal (None, 6, 6, 64)     256         block_6_project[0][0]            \n",
            "__________________________________________________________________________________________________\n",
            "block_7_expand (Conv2D)         (None, 6, 6, 384)    24576       block_6_project_BN[0][0]         \n",
            "__________________________________________________________________________________________________\n",
            "block_7_expand_BN (BatchNormali (None, 6, 6, 384)    1536        block_7_expand[0][0]             \n",
            "__________________________________________________________________________________________________\n",
            "block_7_expand_relu (ReLU)      (None, 6, 6, 384)    0           block_7_expand_BN[0][0]          \n",
            "__________________________________________________________________________________________________\n",
            "block_7_depthwise (DepthwiseCon (None, 6, 6, 384)    3456        block_7_expand_relu[0][0]        \n",
            "__________________________________________________________________________________________________\n",
            "block_7_depthwise_BN (BatchNorm (None, 6, 6, 384)    1536        block_7_depthwise[0][0]          \n",
            "__________________________________________________________________________________________________\n",
            "block_7_depthwise_relu (ReLU)   (None, 6, 6, 384)    0           block_7_depthwise_BN[0][0]       \n",
            "__________________________________________________________________________________________________\n",
            "block_7_project (Conv2D)        (None, 6, 6, 64)     24576       block_7_depthwise_relu[0][0]     \n",
            "__________________________________________________________________________________________________\n",
            "block_7_project_BN (BatchNormal (None, 6, 6, 64)     256         block_7_project[0][0]            \n",
            "__________________________________________________________________________________________________\n",
            "block_7_add (Add)               (None, 6, 6, 64)     0           block_6_project_BN[0][0]         \n",
            "                                                                 block_7_project_BN[0][0]         \n",
            "__________________________________________________________________________________________________\n",
            "block_8_expand (Conv2D)         (None, 6, 6, 384)    24576       block_7_add[0][0]                \n",
            "__________________________________________________________________________________________________\n",
            "block_8_expand_BN (BatchNormali (None, 6, 6, 384)    1536        block_8_expand[0][0]             \n",
            "__________________________________________________________________________________________________\n",
            "block_8_expand_relu (ReLU)      (None, 6, 6, 384)    0           block_8_expand_BN[0][0]          \n",
            "__________________________________________________________________________________________________\n",
            "block_8_depthwise (DepthwiseCon (None, 6, 6, 384)    3456        block_8_expand_relu[0][0]        \n",
            "__________________________________________________________________________________________________\n",
            "block_8_depthwise_BN (BatchNorm (None, 6, 6, 384)    1536        block_8_depthwise[0][0]          \n",
            "__________________________________________________________________________________________________\n",
            "block_8_depthwise_relu (ReLU)   (None, 6, 6, 384)    0           block_8_depthwise_BN[0][0]       \n",
            "__________________________________________________________________________________________________\n",
            "block_8_project (Conv2D)        (None, 6, 6, 64)     24576       block_8_depthwise_relu[0][0]     \n",
            "__________________________________________________________________________________________________\n",
            "block_8_project_BN (BatchNormal (None, 6, 6, 64)     256         block_8_project[0][0]            \n",
            "__________________________________________________________________________________________________\n",
            "block_8_add (Add)               (None, 6, 6, 64)     0           block_7_add[0][0]                \n",
            "                                                                 block_8_project_BN[0][0]         \n",
            "__________________________________________________________________________________________________\n",
            "block_9_expand (Conv2D)         (None, 6, 6, 384)    24576       block_8_add[0][0]                \n",
            "__________________________________________________________________________________________________\n",
            "block_9_expand_BN (BatchNormali (None, 6, 6, 384)    1536        block_9_expand[0][0]             \n",
            "__________________________________________________________________________________________________\n",
            "block_9_expand_relu (ReLU)      (None, 6, 6, 384)    0           block_9_expand_BN[0][0]          \n",
            "__________________________________________________________________________________________________\n",
            "block_9_depthwise (DepthwiseCon (None, 6, 6, 384)    3456        block_9_expand_relu[0][0]        \n",
            "__________________________________________________________________________________________________\n",
            "block_9_depthwise_BN (BatchNorm (None, 6, 6, 384)    1536        block_9_depthwise[0][0]          \n",
            "__________________________________________________________________________________________________\n",
            "block_9_depthwise_relu (ReLU)   (None, 6, 6, 384)    0           block_9_depthwise_BN[0][0]       \n",
            "__________________________________________________________________________________________________\n",
            "block_9_project (Conv2D)        (None, 6, 6, 64)     24576       block_9_depthwise_relu[0][0]     \n",
            "__________________________________________________________________________________________________\n",
            "block_9_project_BN (BatchNormal (None, 6, 6, 64)     256         block_9_project[0][0]            \n",
            "__________________________________________________________________________________________________\n",
            "block_9_add (Add)               (None, 6, 6, 64)     0           block_8_add[0][0]                \n",
            "                                                                 block_9_project_BN[0][0]         \n",
            "__________________________________________________________________________________________________\n",
            "block_10_expand (Conv2D)        (None, 6, 6, 384)    24576       block_9_add[0][0]                \n",
            "__________________________________________________________________________________________________\n",
            "block_10_expand_BN (BatchNormal (None, 6, 6, 384)    1536        block_10_expand[0][0]            \n",
            "__________________________________________________________________________________________________\n",
            "block_10_expand_relu (ReLU)     (None, 6, 6, 384)    0           block_10_expand_BN[0][0]         \n",
            "__________________________________________________________________________________________________\n",
            "block_10_depthwise (DepthwiseCo (None, 6, 6, 384)    3456        block_10_expand_relu[0][0]       \n",
            "__________________________________________________________________________________________________\n",
            "block_10_depthwise_BN (BatchNor (None, 6, 6, 384)    1536        block_10_depthwise[0][0]         \n",
            "__________________________________________________________________________________________________\n",
            "block_10_depthwise_relu (ReLU)  (None, 6, 6, 384)    0           block_10_depthwise_BN[0][0]      \n",
            "__________________________________________________________________________________________________\n",
            "block_10_project (Conv2D)       (None, 6, 6, 96)     36864       block_10_depthwise_relu[0][0]    \n",
            "__________________________________________________________________________________________________\n",
            "block_10_project_BN (BatchNorma (None, 6, 6, 96)     384         block_10_project[0][0]           \n",
            "__________________________________________________________________________________________________\n",
            "block_11_expand (Conv2D)        (None, 6, 6, 576)    55296       block_10_project_BN[0][0]        \n",
            "__________________________________________________________________________________________________\n",
            "block_11_expand_BN (BatchNormal (None, 6, 6, 576)    2304        block_11_expand[0][0]            \n",
            "__________________________________________________________________________________________________\n",
            "block_11_expand_relu (ReLU)     (None, 6, 6, 576)    0           block_11_expand_BN[0][0]         \n",
            "__________________________________________________________________________________________________\n",
            "block_11_depthwise (DepthwiseCo (None, 6, 6, 576)    5184        block_11_expand_relu[0][0]       \n",
            "__________________________________________________________________________________________________\n",
            "block_11_depthwise_BN (BatchNor (None, 6, 6, 576)    2304        block_11_depthwise[0][0]         \n",
            "__________________________________________________________________________________________________\n",
            "block_11_depthwise_relu (ReLU)  (None, 6, 6, 576)    0           block_11_depthwise_BN[0][0]      \n",
            "__________________________________________________________________________________________________\n",
            "block_11_project (Conv2D)       (None, 6, 6, 96)     55296       block_11_depthwise_relu[0][0]    \n",
            "__________________________________________________________________________________________________\n",
            "block_11_project_BN (BatchNorma (None, 6, 6, 96)     384         block_11_project[0][0]           \n",
            "__________________________________________________________________________________________________\n",
            "block_11_add (Add)              (None, 6, 6, 96)     0           block_10_project_BN[0][0]        \n",
            "                                                                 block_11_project_BN[0][0]        \n",
            "__________________________________________________________________________________________________\n",
            "block_12_expand (Conv2D)        (None, 6, 6, 576)    55296       block_11_add[0][0]               \n",
            "__________________________________________________________________________________________________\n",
            "block_12_expand_BN (BatchNormal (None, 6, 6, 576)    2304        block_12_expand[0][0]            \n",
            "__________________________________________________________________________________________________\n",
            "block_12_expand_relu (ReLU)     (None, 6, 6, 576)    0           block_12_expand_BN[0][0]         \n",
            "__________________________________________________________________________________________________\n",
            "block_12_depthwise (DepthwiseCo (None, 6, 6, 576)    5184        block_12_expand_relu[0][0]       \n",
            "__________________________________________________________________________________________________\n",
            "block_12_depthwise_BN (BatchNor (None, 6, 6, 576)    2304        block_12_depthwise[0][0]         \n",
            "__________________________________________________________________________________________________\n",
            "block_12_depthwise_relu (ReLU)  (None, 6, 6, 576)    0           block_12_depthwise_BN[0][0]      \n",
            "__________________________________________________________________________________________________\n",
            "block_12_project (Conv2D)       (None, 6, 6, 96)     55296       block_12_depthwise_relu[0][0]    \n",
            "__________________________________________________________________________________________________\n",
            "block_12_project_BN (BatchNorma (None, 6, 6, 96)     384         block_12_project[0][0]           \n",
            "__________________________________________________________________________________________________\n",
            "block_12_add (Add)              (None, 6, 6, 96)     0           block_11_add[0][0]               \n",
            "                                                                 block_12_project_BN[0][0]        \n",
            "__________________________________________________________________________________________________\n",
            "block_13_expand (Conv2D)        (None, 6, 6, 576)    55296       block_12_add[0][0]               \n",
            "__________________________________________________________________________________________________\n",
            "block_13_expand_BN (BatchNormal (None, 6, 6, 576)    2304        block_13_expand[0][0]            \n",
            "__________________________________________________________________________________________________\n",
            "block_13_expand_relu (ReLU)     (None, 6, 6, 576)    0           block_13_expand_BN[0][0]         \n",
            "__________________________________________________________________________________________________\n",
            "block_13_pad (ZeroPadding2D)    (None, 7, 7, 576)    0           block_13_expand_relu[0][0]       \n",
            "__________________________________________________________________________________________________\n",
            "block_13_depthwise (DepthwiseCo (None, 3, 3, 576)    5184        block_13_pad[0][0]               \n",
            "__________________________________________________________________________________________________\n",
            "block_13_depthwise_BN (BatchNor (None, 3, 3, 576)    2304        block_13_depthwise[0][0]         \n",
            "__________________________________________________________________________________________________\n",
            "block_13_depthwise_relu (ReLU)  (None, 3, 3, 576)    0           block_13_depthwise_BN[0][0]      \n",
            "__________________________________________________________________________________________________\n",
            "block_13_project (Conv2D)       (None, 3, 3, 160)    92160       block_13_depthwise_relu[0][0]    \n",
            "__________________________________________________________________________________________________\n",
            "block_13_project_BN (BatchNorma (None, 3, 3, 160)    640         block_13_project[0][0]           \n",
            "__________________________________________________________________________________________________\n",
            "block_14_expand (Conv2D)        (None, 3, 3, 960)    153600      block_13_project_BN[0][0]        \n",
            "__________________________________________________________________________________________________\n",
            "block_14_expand_BN (BatchNormal (None, 3, 3, 960)    3840        block_14_expand[0][0]            \n",
            "__________________________________________________________________________________________________\n",
            "block_14_expand_relu (ReLU)     (None, 3, 3, 960)    0           block_14_expand_BN[0][0]         \n",
            "__________________________________________________________________________________________________\n",
            "block_14_depthwise (DepthwiseCo (None, 3, 3, 960)    8640        block_14_expand_relu[0][0]       \n",
            "__________________________________________________________________________________________________\n",
            "block_14_depthwise_BN (BatchNor (None, 3, 3, 960)    3840        block_14_depthwise[0][0]         \n",
            "__________________________________________________________________________________________________\n",
            "block_14_depthwise_relu (ReLU)  (None, 3, 3, 960)    0           block_14_depthwise_BN[0][0]      \n",
            "__________________________________________________________________________________________________\n",
            "block_14_project (Conv2D)       (None, 3, 3, 160)    153600      block_14_depthwise_relu[0][0]    \n",
            "__________________________________________________________________________________________________\n",
            "block_14_project_BN (BatchNorma (None, 3, 3, 160)    640         block_14_project[0][0]           \n",
            "__________________________________________________________________________________________________\n",
            "block_14_add (Add)              (None, 3, 3, 160)    0           block_13_project_BN[0][0]        \n",
            "                                                                 block_14_project_BN[0][0]        \n",
            "__________________________________________________________________________________________________\n",
            "block_15_expand (Conv2D)        (None, 3, 3, 960)    153600      block_14_add[0][0]               \n",
            "__________________________________________________________________________________________________\n",
            "block_15_expand_BN (BatchNormal (None, 3, 3, 960)    3840        block_15_expand[0][0]            \n",
            "__________________________________________________________________________________________________\n",
            "block_15_expand_relu (ReLU)     (None, 3, 3, 960)    0           block_15_expand_BN[0][0]         \n",
            "__________________________________________________________________________________________________\n",
            "block_15_depthwise (DepthwiseCo (None, 3, 3, 960)    8640        block_15_expand_relu[0][0]       \n",
            "__________________________________________________________________________________________________\n",
            "block_15_depthwise_BN (BatchNor (None, 3, 3, 960)    3840        block_15_depthwise[0][0]         \n",
            "__________________________________________________________________________________________________\n",
            "block_15_depthwise_relu (ReLU)  (None, 3, 3, 960)    0           block_15_depthwise_BN[0][0]      \n",
            "__________________________________________________________________________________________________\n",
            "block_15_project (Conv2D)       (None, 3, 3, 160)    153600      block_15_depthwise_relu[0][0]    \n",
            "__________________________________________________________________________________________________\n",
            "block_15_project_BN (BatchNorma (None, 3, 3, 160)    640         block_15_project[0][0]           \n",
            "__________________________________________________________________________________________________\n",
            "block_15_add (Add)              (None, 3, 3, 160)    0           block_14_add[0][0]               \n",
            "                                                                 block_15_project_BN[0][0]        \n",
            "__________________________________________________________________________________________________\n",
            "block_16_expand (Conv2D)        (None, 3, 3, 960)    153600      block_15_add[0][0]               \n",
            "__________________________________________________________________________________________________\n",
            "block_16_expand_BN (BatchNormal (None, 3, 3, 960)    3840        block_16_expand[0][0]            \n",
            "__________________________________________________________________________________________________\n",
            "block_16_expand_relu (ReLU)     (None, 3, 3, 960)    0           block_16_expand_BN[0][0]         \n",
            "__________________________________________________________________________________________________\n",
            "block_16_depthwise (DepthwiseCo (None, 3, 3, 960)    8640        block_16_expand_relu[0][0]       \n",
            "__________________________________________________________________________________________________\n",
            "block_16_depthwise_BN (BatchNor (None, 3, 3, 960)    3840        block_16_depthwise[0][0]         \n",
            "__________________________________________________________________________________________________\n",
            "block_16_depthwise_relu (ReLU)  (None, 3, 3, 960)    0           block_16_depthwise_BN[0][0]      \n",
            "__________________________________________________________________________________________________\n",
            "block_16_project (Conv2D)       (None, 3, 3, 320)    307200      block_16_depthwise_relu[0][0]    \n",
            "__________________________________________________________________________________________________\n",
            "block_16_project_BN (BatchNorma (None, 3, 3, 320)    1280        block_16_project[0][0]           \n",
            "__________________________________________________________________________________________________\n",
            "Conv_1 (Conv2D)                 (None, 3, 3, 1280)   409600      block_16_project_BN[0][0]        \n",
            "__________________________________________________________________________________________________\n",
            "Conv_1_bn (BatchNormalization)  (None, 3, 3, 1280)   5120        Conv_1[0][0]                     \n",
            "__________________________________________________________________________________________________\n",
            "out_relu (ReLU)                 (None, 3, 3, 1280)   0           Conv_1_bn[0][0]                  \n",
            "==================================================================================================\n",
            "Total params: 2,257,984\n",
            "Trainable params: 0\n",
            "Non-trainable params: 2,257,984\n",
            "__________________________________________________________________________________________________\n"
          ],
          "name": "stdout"
        }
      ]
    },
    {
      "cell_type": "markdown",
      "metadata": {
        "id": "jGuHGbF6hBtf"
      },
      "source": [
        "## Adapt to own domain"
      ]
    },
    {
      "cell_type": "markdown",
      "metadata": {
        "id": "t8hPns65hBtf"
      },
      "source": [
        "You will need to adjust the model for your predictive task"
      ]
    },
    {
      "cell_type": "code",
      "metadata": {
        "id": "nMPUR9iMhBtf"
      },
      "source": [
        "from tensorflow.keras.layers import Flatten, Dense\n",
        "\n",
        "model_2f = tf.keras.Sequential([\n",
        "    model_2,\n",
        "    Flatten(),\n",
        "    Dense(47, activation='sigmoid')\n",
        "])"
      ],
      "execution_count": null,
      "outputs": []
    },
    {
      "cell_type": "code",
      "metadata": {
        "id": "i3TJfB0YNSMS",
        "colab": {
          "base_uri": "https://localhost:8080/",
          "height": 252
        },
        "outputId": "a7f1e1d9-01df-4fed-c35d-f8e8e81b503f"
      },
      "source": [
        "model_2f.summary()"
      ],
      "execution_count": null,
      "outputs": [
        {
          "output_type": "stream",
          "text": [
            "Model: \"sequential_1\"\n",
            "_________________________________________________________________\n",
            "Layer (type)                 Output Shape              Param #   \n",
            "=================================================================\n",
            "mobilenetv2_1.00_96 (Model)  (None, 3, 3, 1280)        2257984   \n",
            "_________________________________________________________________\n",
            "flatten_1 (Flatten)          (None, 11520)             0         \n",
            "_________________________________________________________________\n",
            "dense_1 (Dense)              (None, 47)                541487    \n",
            "=================================================================\n",
            "Total params: 2,799,471\n",
            "Trainable params: 541,487\n",
            "Non-trainable params: 2,257,984\n",
            "_________________________________________________________________\n"
          ],
          "name": "stdout"
        }
      ]
    },
    {
      "cell_type": "code",
      "metadata": {
        "id": "mHBL7gXlCa3d"
      },
      "source": [
        "# Optimiser\n",
        "optimizer = tf.keras.optimizers.Adam(0.0001)"
      ],
      "execution_count": null,
      "outputs": []
    },
    {
      "cell_type": "markdown",
      "metadata": {
        "id": "BewcvI-ihBth"
      },
      "source": [
        "## Compile"
      ]
    },
    {
      "cell_type": "code",
      "metadata": {
        "id": "vhR8HH9LhBti"
      },
      "source": [
        "model_2f.compile(loss='categorical_crossentropy', optimizer=optimizer, metrics=['accuracy']) # compiling the model with categorical cross entropy loss funciton"
      ],
      "execution_count": null,
      "outputs": []
    },
    {
      "cell_type": "markdown",
      "metadata": {
        "id": "1RH4Mx6ChBtk"
      },
      "source": [
        "## Run & Evaluate"
      ]
    },
    {
      "cell_type": "code",
      "metadata": {
        "id": "TXf2EBdWPJ91",
        "colab": {
          "base_uri": "https://localhost:8080/",
          "height": 34
        },
        "outputId": "b9c15b61-cc7d-44bb-ddb4-fde3d3c4d759"
      },
      "source": [
        "history = model_2f.fit(train_dataflow\n",
        "                    ,steps_per_epoch= train_stepsize \n",
        "                    ,validation_data=val_dataflow\n",
        "                    ,validation_steps= val_stepsize \n",
        "                    ,epochs= 1\n",
        "                   )"
      ],
      "execution_count": null,
      "outputs": [
        {
          "output_type": "stream",
          "text": [
            "750/750 [==============================] - 92s 122ms/step - loss: 0.9632 - accuracy: 0.7050 - val_loss: 0.7494 - val_accuracy: 0.7665\n"
          ],
          "name": "stdout"
        }
      ]
    },
    {
      "cell_type": "code",
      "metadata": {
        "id": "PX6VmnedQA4z"
      },
      "source": [
        "pred_2 = model_2f.predict(test_dataflow ) # Getting predicitons using the model"
      ],
      "execution_count": null,
      "outputs": []
    },
    {
      "cell_type": "code",
      "metadata": {
        "id": "tOSh9SusQBIs"
      },
      "source": [
        "pred_2f = np.argmax(pred_2, 1) # predicting the class with the highest score as true or 1 "
      ],
      "execution_count": null,
      "outputs": []
    },
    {
      "cell_type": "code",
      "metadata": {
        "id": "Wm-3i4xIQctA",
        "colab": {
          "base_uri": "https://localhost:8080/",
          "height": 857
        },
        "outputId": "17a65c55-3b63-4548-81ae-ed92d4970470"
      },
      "source": [
        "from sklearn.metrics import classification_report\n",
        "\n",
        "print(classification_report(pred_2f, test_dataflow.classes, labels=np.unique(pred_2f)))"
      ],
      "execution_count": null,
      "outputs": [
        {
          "output_type": "stream",
          "text": [
            "              precision    recall  f1-score   support\n",
            "\n",
            "           0       0.96      0.89      0.92       196\n",
            "           1       0.50      0.56      0.53        71\n",
            "           2       0.92      0.93      0.92       459\n",
            "           3       0.96      0.99      0.97       208\n",
            "           4       0.99      0.99      0.99       306\n",
            "           5       0.86      0.99      0.92        71\n",
            "           6       0.92      1.00      0.96        93\n",
            "           7       0.93      0.96      0.94       170\n",
            "           8       0.99      1.00      0.99        73\n",
            "           9       0.88      0.80      0.84       261\n",
            "          10       0.97      0.98      0.97       669\n",
            "          11       0.61      0.89      0.73       113\n",
            "          12       0.49      0.84      0.62        31\n",
            "          13       0.84      0.84      0.84       139\n",
            "          14       0.41      0.73      0.52        45\n",
            "          15       0.91      0.55      0.69       233\n",
            "          16       0.39      0.65      0.49        77\n",
            "          17       0.92      0.97      0.95       115\n",
            "          18       0.93      0.94      0.93       202\n",
            "          19       0.42      0.64      0.50        42\n",
            "          20       0.10      1.00      0.18         5\n",
            "          22       0.95      0.83      0.89       123\n",
            "          24       0.16      0.47      0.23        19\n",
            "          25       0.64      0.80      0.71       383\n",
            "          26       0.03      0.14      0.05        14\n",
            "          27       0.86      0.79      0.82       857\n",
            "          28       0.19      0.43      0.27        35\n",
            "          29       0.25      0.38      0.30        60\n",
            "          30       0.68      0.43      0.53       778\n",
            "          31       0.88      0.85      0.87      1901\n",
            "          32       0.07      0.13      0.09        31\n",
            "          33       0.80      0.69      0.74       266\n",
            "          34       0.61      0.68      0.64       199\n",
            "          35       0.76      0.59      0.66       948\n",
            "          36       0.17      0.42      0.24        55\n",
            "          37       0.12      0.70      0.21        27\n",
            "          38       0.56      0.79      0.66       256\n",
            "          40       0.80      0.70      0.74       616\n",
            "          41       0.76      0.68      0.72        91\n",
            "          42       0.78      0.66      0.72       170\n",
            "          43       0.80      1.00      0.89        66\n",
            "          44       0.96      0.99      0.97        73\n",
            "          46       0.50      1.00      0.67         1\n",
            "\n",
            "   micro avg       0.77      0.77      0.77     10548\n",
            "   macro avg       0.66      0.75      0.68     10548\n",
            "weighted avg       0.81      0.77      0.78     10548\n",
            "\n"
          ],
          "name": "stdout"
        }
      ]
    },
    {
      "cell_type": "markdown",
      "metadata": {
        "id": "LfHr5bInhBtm"
      },
      "source": [
        "# PART THREE"
      ]
    },
    {
      "cell_type": "markdown",
      "metadata": {
        "id": "QWDUOb-ugtrU"
      },
      "source": [
        "### 3A- MobileNetV2 Extensions"
      ]
    },
    {
      "cell_type": "markdown",
      "metadata": {
        "id": "OkWYyPEbhBtm"
      },
      "source": [
        "Here we will continue to use the MobileNetV2 model and hypertune it to try and get better results."
      ]
    },
    {
      "cell_type": "code",
      "metadata": {
        "id": "ah91KG4PhBtn"
      },
      "source": [
        "# Load model\n",
        "model_3 = MobileNetV2(input_shape=input_shape, weights='imagenet', include_top=False)"
      ],
      "execution_count": null,
      "outputs": []
    },
    {
      "cell_type": "code",
      "metadata": {
        "id": "e2Tg2nFYyb7Q"
      },
      "source": [
        "frozen_layers = 150       # Freezing the intial 150 layers"
      ],
      "execution_count": null,
      "outputs": []
    },
    {
      "cell_type": "code",
      "metadata": {
        "id": "yM2UTYUhOD4j"
      },
      "source": [
        "# frozen_layers = 130     # Freezing the intial 130 layers"
      ],
      "execution_count": null,
      "outputs": []
    },
    {
      "cell_type": "code",
      "metadata": {
        "id": "HKAHZPsvOHEH"
      },
      "source": [
        "# frozen_layers = 110     # Freezing the intial 110 layers"
      ],
      "execution_count": null,
      "outputs": []
    },
    {
      "cell_type": "code",
      "metadata": {
        "id": "i_FRMqqWykYI"
      },
      "source": [
        "for layer in model_3.layers[:frozen_layers]:          # Freezing the above chosen number of layers \n",
        "    layer.trainable = False"
      ],
      "execution_count": null,
      "outputs": []
    },
    {
      "cell_type": "code",
      "metadata": {
        "id": "10PqI5ST2zOS"
      },
      "source": [
        "# Build the model\n",
        "model_3f = tf.keras.Sequential([\n",
        "    model_3,\n",
        "    Flatten(),\n",
        "    Dense(512, activation='relu'),\n",
        "    Dense(256, activation='relu'),\n",
        "  #  Dense(47, activation='sigmoid')         # Using Sigmoid Classifier for the final output\n",
        "    Dense(47, activation='softmax')         # Using Softmax Classifier for the final output\n",
        "])"
      ],
      "execution_count": null,
      "outputs": []
    },
    {
      "cell_type": "code",
      "metadata": {
        "id": "y6Xpl9W3zyZY",
        "colab": {
          "base_uri": "https://localhost:8080/",
          "height": 319
        },
        "outputId": "b5aea5bd-fc86-4bfc-c7a5-247ab76e1c40"
      },
      "source": [
        "model_3f.summary()"
      ],
      "execution_count": null,
      "outputs": [
        {
          "output_type": "stream",
          "text": [
            "Model: \"sequential_2\"\n",
            "_________________________________________________________________\n",
            "Layer (type)                 Output Shape              Param #   \n",
            "=================================================================\n",
            "mobilenetv2_1.00_96 (Model)  (None, 3, 3, 1280)        2257984   \n",
            "_________________________________________________________________\n",
            "flatten_2 (Flatten)          (None, 11520)             0         \n",
            "_________________________________________________________________\n",
            "dense_2 (Dense)              (None, 512)               5898752   \n",
            "_________________________________________________________________\n",
            "dense_3 (Dense)              (None, 256)               131328    \n",
            "_________________________________________________________________\n",
            "dense_4 (Dense)              (None, 47)                12079     \n",
            "=================================================================\n",
            "Total params: 8,300,143\n",
            "Trainable params: 6,762,159\n",
            "Non-trainable params: 1,537,984\n",
            "_________________________________________________________________\n"
          ],
          "name": "stdout"
        }
      ]
    },
    {
      "cell_type": "code",
      "metadata": {
        "id": "lh_ca2m14ta9"
      },
      "source": [
        "# optimizer = tf.keras.optimizers.Adam(0.00001)  # Try different optimiser and learning rates"
      ],
      "execution_count": null,
      "outputs": []
    },
    {
      "cell_type": "code",
      "metadata": {
        "id": "nDmWi21VItOF"
      },
      "source": [
        "optimizer = tf.keras.optimizers.Adam(0.0001)  # Try different optimiser and learning rates"
      ],
      "execution_count": null,
      "outputs": []
    },
    {
      "cell_type": "code",
      "metadata": {
        "id": "ayiTOrzH5UGw"
      },
      "source": [
        "model_3f.compile(loss='categorical_crossentropy', optimizer= optimizer , metrics=['accuracy']) # compiling the model with categorical cross entropy loss funciton"
      ],
      "execution_count": null,
      "outputs": []
    },
    {
      "cell_type": "code",
      "metadata": {
        "id": "FSVfmARK5VKg",
        "colab": {
          "base_uri": "https://localhost:8080/",
          "height": 286
        },
        "outputId": "cef1e205-c074-492c-de2f-1152d222f06c"
      },
      "source": [
        "history = model_3f.fit(train_dataflow\n",
        "                    ,steps_per_epoch= train_stepsize \n",
        "                    ,validation_data=val_dataflow\n",
        "                    ,validation_steps= val_stepsize \n",
        "                    ,epochs= 8\n",
        "                   )"
      ],
      "execution_count": null,
      "outputs": [
        {
          "output_type": "stream",
          "text": [
            "Epoch 1/8\n",
            "750/750 [==============================] - 93s 124ms/step - loss: 0.8653 - accuracy: 0.7357 - val_loss: 0.7569 - val_accuracy: 0.7592\n",
            "Epoch 2/8\n",
            "750/750 [==============================] - 92s 123ms/step - loss: 0.5580 - accuracy: 0.8148 - val_loss: 0.6835 - val_accuracy: 0.7895\n",
            "Epoch 3/8\n",
            "750/750 [==============================] - 93s 124ms/step - loss: 0.4902 - accuracy: 0.8272 - val_loss: 0.6295 - val_accuracy: 0.8036\n",
            "Epoch 4/8\n",
            "750/750 [==============================] - 92s 123ms/step - loss: 0.4444 - accuracy: 0.8440 - val_loss: 0.6162 - val_accuracy: 0.8100\n",
            "Epoch 5/8\n",
            "750/750 [==============================] - 90s 120ms/step - loss: 0.4101 - accuracy: 0.8542 - val_loss: 0.6183 - val_accuracy: 0.8184\n",
            "Epoch 6/8\n",
            "750/750 [==============================] - 90s 120ms/step - loss: 0.3819 - accuracy: 0.8646 - val_loss: 0.6221 - val_accuracy: 0.8135\n",
            "Epoch 7/8\n",
            "750/750 [==============================] - 90s 120ms/step - loss: 0.3644 - accuracy: 0.8682 - val_loss: 0.6241 - val_accuracy: 0.8170\n",
            "Epoch 8/8\n",
            "750/750 [==============================] - 90s 120ms/step - loss: 0.3460 - accuracy: 0.8749 - val_loss: 0.6169 - val_accuracy: 0.8192\n"
          ],
          "name": "stdout"
        }
      ]
    },
    {
      "cell_type": "code",
      "metadata": {
        "id": "LxFwjd0Hng44",
        "colab": {
          "base_uri": "https://localhost:8080/",
          "height": 295
        },
        "outputId": "a6be6662-a938-425e-c252-6d21bcd339a1"
      },
      "source": [
        "# PLot the model training\n",
        "import matplotlib.pyplot as plt\n",
        "\n",
        "plt.plot(history.history['accuracy'], label='training')\n",
        "plt.plot(history.history['val_accuracy'], label='validation')\n",
        "plt.title('model 3A accuracy')\n",
        "plt.ylabel('accuracy')\n",
        "plt.xlabel('epoch')\n",
        "plt.legend(['train', 'val'], loc='upper left')\n",
        "plt.show()"
      ],
      "execution_count": null,
      "outputs": [
        {
          "output_type": "display_data",
          "data": {
            "image/png": "[encoded data removed]",
            "text/plain": [
              "<Figure size 432x288 with 1 Axes>"
            ]
          },
          "metadata": {
            "tags": [],
            "needs_background": "light"
          }
        }
      ]
    },
    {
      "cell_type": "code",
      "metadata": {
        "id": "Y-cx1zTArW2z",
        "colab": {
          "base_uri": "https://localhost:8080/",
          "height": 295
        },
        "outputId": "6b391cc4-a1e3-470f-c0ce-93f08537a1c2"
      },
      "source": [
        "plt.plot(history.history['loss'])\n",
        "plt.plot(history.history['val_loss'])\n",
        "plt.title('model 3A loss')\n",
        "plt.ylabel('loss')\n",
        "plt.xlabel('epoch')\n",
        "plt.legend(['train', 'val'], loc='upper left')\n",
        "plt.show()"
      ],
      "execution_count": null,
      "outputs": [
        {
          "output_type": "display_data",
          "data": {
            "image/png": "[encoded data removed]",
            "text/plain": [
              "<Figure size 432x288 with 1 Axes>"
            ]
          },
          "metadata": {
            "tags": [],
            "needs_background": "light"
          }
        }
      ]
    },
    {
      "cell_type": "code",
      "metadata": {
        "id": "wKViucH2I8dP"
      },
      "source": [
        "pred_3 = model_3f.predict(test_dataflow ) # Getting predicitons using the model\n",
        "pred_3f = np.argmax(pred_3, 1) # predicting the class with the highest score as true or 1 "
      ],
      "execution_count": null,
      "outputs": []
    },
    {
      "cell_type": "code",
      "metadata": {
        "id": "wpLsZteyJCqr",
        "colab": {
          "base_uri": "https://localhost:8080/",
          "height": 840
        },
        "outputId": "ccef812f-4e37-493d-8f56-2689bff6266d"
      },
      "source": [
        "from sklearn.metrics import classification_report\n",
        "\n",
        "print(classification_report(pred_3f, test_dataflow.classes, labels=np.unique(pred_3f)))"
      ],
      "execution_count": null,
      "outputs": [
        {
          "output_type": "stream",
          "text": [
            "              precision    recall  f1-score   support\n",
            "\n",
            "           0       0.95      0.95      0.95       184\n",
            "           1       0.62      0.83      0.71        60\n",
            "           2       0.97      0.91      0.94       490\n",
            "           3       0.97      0.99      0.98       209\n",
            "           4       1.00      1.00      1.00       306\n",
            "           5       0.88      1.00      0.93        71\n",
            "           6       0.95      0.99      0.97        97\n",
            "           7       1.00      0.95      0.97       184\n",
            "           8       1.00      1.00      1.00        74\n",
            "           9       0.95      0.89      0.92       254\n",
            "          10       0.98      1.00      0.99       668\n",
            "          11       0.86      0.90      0.88       158\n",
            "          12       0.51      0.96      0.67        28\n",
            "          13       0.91      0.88      0.90       144\n",
            "          14       0.70      0.81      0.75        70\n",
            "          15       0.92      0.77      0.84       168\n",
            "          16       0.63      0.71      0.67       114\n",
            "          17       0.95      0.98      0.97       118\n",
            "          18       0.97      0.97      0.97       206\n",
            "          19       0.78      0.86      0.82        59\n",
            "          20       0.42      0.92      0.58        24\n",
            "          22       0.99      0.94      0.96       113\n",
            "          24       0.57      0.55      0.56        60\n",
            "          25       0.95      0.84      0.89       536\n",
            "          26       0.01      0.20      0.03         5\n",
            "          27       0.95      0.93      0.94       800\n",
            "          28       0.72      0.46      0.56       122\n",
            "          29       0.46      0.68      0.55        62\n",
            "          30       0.76      0.60      0.67       611\n",
            "          31       0.91      0.92      0.92      1813\n",
            "          33       0.90      0.82      0.86       249\n",
            "          34       0.85      0.70      0.77       270\n",
            "          35       0.81      0.71      0.76       837\n",
            "          36       0.08      0.46      0.14        24\n",
            "          37       0.35      0.83      0.49        65\n",
            "          38       0.76      0.77      0.77       355\n",
            "          40       0.80      0.77      0.79       564\n",
            "          41       0.82      0.89      0.85        75\n",
            "          42       0.84      0.85      0.85       142\n",
            "          43       0.98      0.99      0.98        81\n",
            "          44       1.00      0.99      0.99        76\n",
            "          46       1.00      1.00      1.00         2\n",
            "\n",
            "   micro avg       0.86      0.86      0.86     10548\n",
            "   macro avg       0.80      0.84      0.80     10548\n",
            "weighted avg       0.88      0.86      0.86     10548\n",
            "\n"
          ],
          "name": "stdout"
        }
      ]
    },
    {
      "cell_type": "markdown",
      "metadata": {
        "id": "RYC00MiFVENI"
      },
      "source": [
        "###3B MobileNetV2 Further Experimenting"
      ]
    },
    {
      "cell_type": "code",
      "metadata": {
        "id": "96dzReD6QnDf"
      },
      "source": [
        "from tensorflow.keras.layers import Dropout   # Adding dropout layer to regularise the model"
      ],
      "execution_count": null,
      "outputs": []
    },
    {
      "cell_type": "code",
      "metadata": {
        "id": "y5ptCYDdPfWF"
      },
      "source": [
        "model_3b = tf.keras.Sequential([\n",
        "    model_3,\n",
        "    Dropout(0.3),                            # Dropout layer\n",
        "    Flatten(),\n",
        "    Dense(512, activation='relu'),          # Fully Connected layer 1\n",
        "    Dense(256, activation='relu'),          # Fully COnnected Layer 2\n",
        "    Dropout(0.3),                            # Dropout Layer\n",
        "    Dense(128, activation='relu'),            # Fully COnnected Layer 3\n",
        "  #  Dense(47, activation='sigmoid')         # Using Sigmoid Classifier for the final output\n",
        "    Dense(47, activation='softmax')         # Using Softmax Classifier for the final output\n",
        "])"
      ],
      "execution_count": null,
      "outputs": []
    },
    {
      "cell_type": "code",
      "metadata": {
        "id": "bQCX0RtYzmvX",
        "colab": {
          "base_uri": "https://localhost:8080/",
          "height": 420
        },
        "outputId": "3875e2c1-4ccc-49ed-bafe-6948d0dbd9f6"
      },
      "source": [
        "model_3b.summary()"
      ],
      "execution_count": null,
      "outputs": [
        {
          "output_type": "stream",
          "text": [
            "Model: \"sequential_3\"\n",
            "_________________________________________________________________\n",
            "Layer (type)                 Output Shape              Param #   \n",
            "=================================================================\n",
            "mobilenetv2_1.00_96 (Model)  (None, 3, 3, 1280)        2257984   \n",
            "_________________________________________________________________\n",
            "dropout (Dropout)            (None, 3, 3, 1280)        0         \n",
            "_________________________________________________________________\n",
            "flatten_3 (Flatten)          (None, 11520)             0         \n",
            "_________________________________________________________________\n",
            "dense_5 (Dense)              (None, 512)               5898752   \n",
            "_________________________________________________________________\n",
            "dense_6 (Dense)              (None, 256)               131328    \n",
            "_________________________________________________________________\n",
            "dropout_1 (Dropout)          (None, 256)               0         \n",
            "_________________________________________________________________\n",
            "dense_7 (Dense)              (None, 128)               32896     \n",
            "_________________________________________________________________\n",
            "dense_8 (Dense)              (None, 47)                6063      \n",
            "=================================================================\n",
            "Total params: 8,327,023\n",
            "Trainable params: 6,789,039\n",
            "Non-trainable params: 1,537,984\n",
            "_________________________________________________________________\n"
          ],
          "name": "stdout"
        }
      ]
    },
    {
      "cell_type": "code",
      "metadata": {
        "id": "u4wdyA3YPD-k"
      },
      "source": [
        "optimizer = tf.keras.optimizers.Adamax(0.005)  # Using Adamax optimiser and different learning rates\n",
        "model_3b.compile(loss='categorical_crossentropy', optimizer= optimizer , metrics=['accuracy']) # compiling the model with categorical cross entropy loss funciton"
      ],
      "execution_count": null,
      "outputs": []
    },
    {
      "cell_type": "code",
      "metadata": {
        "id": "O6zsPNkFPrPB",
        "colab": {
          "base_uri": "https://localhost:8080/",
          "height": 286
        },
        "outputId": "ad32debb-68ec-4325-fec0-5b16ead76b88"
      },
      "source": [
        "history = model_3b.fit(train_dataflow\n",
        "                    ,steps_per_epoch= train_stepsize \n",
        "                    ,validation_data=val_dataflow\n",
        "                    ,validation_steps= val_stepsize \n",
        "                    ,epochs= 8\n",
        "                   )"
      ],
      "execution_count": null,
      "outputs": [
        {
          "output_type": "stream",
          "text": [
            "Epoch 1/8\n",
            "750/750 [==============================] - 91s 122ms/step - loss: 1.2311 - accuracy: 0.6551 - val_loss: 1.0396 - val_accuracy: 0.7056\n",
            "Epoch 2/8\n",
            "750/750 [==============================] - 90s 120ms/step - loss: 0.8072 - accuracy: 0.7498 - val_loss: 0.9440 - val_accuracy: 0.7265\n",
            "Epoch 3/8\n",
            "750/750 [==============================] - 90s 120ms/step - loss: 0.7027 - accuracy: 0.7784 - val_loss: 0.8390 - val_accuracy: 0.7547\n",
            "Epoch 4/8\n",
            "750/750 [==============================] - 91s 121ms/step - loss: 0.6541 - accuracy: 0.7913 - val_loss: 0.8444 - val_accuracy: 0.7572\n",
            "Epoch 5/8\n",
            "750/750 [==============================] - 90s 120ms/step - loss: 0.6044 - accuracy: 0.8064 - val_loss: 0.7930 - val_accuracy: 0.7821\n",
            "Epoch 6/8\n",
            "750/750 [==============================] - 90s 120ms/step - loss: 0.5741 - accuracy: 0.8141 - val_loss: 0.6908 - val_accuracy: 0.8001\n",
            "Epoch 7/8\n",
            "750/750 [==============================] - 90s 120ms/step - loss: 0.5537 - accuracy: 0.8156 - val_loss: 0.7617 - val_accuracy: 0.7957\n",
            "Epoch 8/8\n",
            "750/750 [==============================] - 89s 118ms/step - loss: 0.5295 - accuracy: 0.8240 - val_loss: 0.7141 - val_accuracy: 0.7893\n"
          ],
          "name": "stdout"
        }
      ]
    },
    {
      "cell_type": "code",
      "metadata": {
        "id": "1X1usyaDsSzI",
        "colab": {
          "base_uri": "https://localhost:8080/",
          "height": 295
        },
        "outputId": "b09a91d5-47fe-410f-8dcd-870f33189227"
      },
      "source": [
        "# PLot the model training History - Accuracy\n",
        "import matplotlib.pyplot as plt\n",
        "\n",
        "plt.plot(history.history['accuracy'], label='training')\n",
        "plt.plot(history.history['val_accuracy'], label='validation')\n",
        "plt.title('model 3B accuracy')\n",
        "plt.ylabel('accuracy')\n",
        "plt.xlabel('epoch')\n",
        "plt.legend(['train', 'val'], loc='upper left')\n",
        "plt.show()"
      ],
      "execution_count": null,
      "outputs": [
        {
          "output_type": "display_data",
          "data": {
            "image/png": "[encoded data removed]",
            "text/plain": [
              "<Figure size 432x288 with 1 Axes>"
            ]
          },
          "metadata": {
            "tags": [],
            "needs_background": "light"
          }
        }
      ]
    },
    {
      "cell_type": "code",
      "metadata": {
        "id": "wTt1tEwjsT8e"
      },
      "source": [
        "pred_3b = model_3b.predict(test_dataflow ) # Getting predicitons using the model\n",
        "pred_3b = np.argmax(pred_3b, 1) # predicting the class with the highest score as true or 1 "
      ],
      "execution_count": null,
      "outputs": []
    },
    {
      "cell_type": "code",
      "metadata": {
        "id": "nseGfW8ksUKK",
        "colab": {
          "base_uri": "https://localhost:8080/",
          "height": 840
        },
        "outputId": "8dacdfe7-800b-4e26-aeab-72729ab5a23a"
      },
      "source": [
        "from sklearn.metrics import classification_report\n",
        "\n",
        "print(classification_report(pred_3b, test_dataflow.classes, labels=np.unique(pred_3b)))"
      ],
      "execution_count": null,
      "outputs": [
        {
          "output_type": "stream",
          "text": [
            "              precision    recall  f1-score   support\n",
            "\n",
            "           0       0.93      0.94      0.93       181\n",
            "           1       0.51      0.63      0.57        65\n",
            "           2       0.95      0.93      0.94       476\n",
            "           3       0.93      1.00      0.96       198\n",
            "           4       0.99      1.00      0.99       304\n",
            "           5       0.88      0.91      0.89        78\n",
            "           6       0.93      0.99      0.96        95\n",
            "           7       0.94      0.93      0.93       177\n",
            "           8       1.00      0.96      0.98        77\n",
            "           9       0.93      0.84      0.88       262\n",
            "          10       0.99      0.92      0.95       724\n",
            "          11       0.58      0.95      0.72       100\n",
            "          12       0.40      1.00      0.57        21\n",
            "          13       0.91      0.90      0.90       140\n",
            "          14       0.40      0.74      0.52        43\n",
            "          15       0.96      0.51      0.67       270\n",
            "          16       0.35      0.68      0.46        66\n",
            "          17       0.96      0.97      0.97       120\n",
            "          18       0.97      0.97      0.97       205\n",
            "          19       0.60      0.81      0.69        48\n",
            "          20       0.13      0.64      0.22        11\n",
            "          22       0.86      0.97      0.91        95\n",
            "          24       0.71      0.39      0.50       106\n",
            "          25       0.96      0.67      0.79       680\n",
            "          26       0.06      0.31      0.10        13\n",
            "          27       0.91      0.91      0.91       780\n",
            "          28       0.38      0.53      0.44        57\n",
            "          29       0.44      0.56      0.49        71\n",
            "          30       0.43      0.67      0.52       312\n",
            "          31       0.95      0.85      0.90      2066\n",
            "          33       0.82      0.81      0.81       230\n",
            "          34       0.66      0.59      0.62       251\n",
            "          35       0.87      0.60      0.71      1050\n",
            "          36       0.01      1.00      0.01         1\n",
            "          37       0.54      0.70      0.61       120\n",
            "          38       0.50      0.78      0.61       231\n",
            "          40       0.74      0.82      0.78       489\n",
            "          41       0.88      0.86      0.87        84\n",
            "          42       0.64      0.96      0.77        96\n",
            "          43       0.85      1.00      0.92        70\n",
            "          44       1.00      0.90      0.95        83\n",
            "          46       1.00      1.00      1.00         2\n",
            "\n",
            "   micro avg       0.81      0.81      0.81     10548\n",
            "   macro avg       0.72      0.81      0.74     10548\n",
            "weighted avg       0.86      0.81      0.82     10548\n",
            "\n"
          ],
          "name": "stdout"
        }
      ]
    },
    {
      "cell_type": "markdown",
      "metadata": {
        "id": "bJ6DsPfNg_QQ"
      },
      "source": [
        "### 3C - InceptionV3 Extension"
      ]
    },
    {
      "cell_type": "code",
      "metadata": {
        "id": "19pWQJ7ghHuc"
      },
      "source": [
        "from tensorflow.keras.applications import InceptionV3 #Loading mobilenetv2"
      ],
      "execution_count": null,
      "outputs": []
    },
    {
      "cell_type": "code",
      "metadata": {
        "id": "TPYa4Hh8jBLK"
      },
      "source": [
        "model_inc = InceptionV3(input_shape=input_shape, weights='imagenet', include_top=False)"
      ],
      "execution_count": null,
      "outputs": []
    },
    {
      "cell_type": "code",
      "metadata": {
        "id": "hrEI9jWejbrM",
        "colab": {
          "base_uri": "https://localhost:8080/",
          "height": 1000
        },
        "outputId": "c1f8d488-eed2-401f-f8c7-8bb7897a6433"
      },
      "source": [
        "model_inc.summary()"
      ],
      "execution_count": null,
      "outputs": [
        {
          "output_type": "stream",
          "text": [
            "Model: \"inception_v3\"\n",
            "__________________________________________________________________________________________________\n",
            "Layer (type)                    Output Shape         Param #     Connected to                     \n",
            "==================================================================================================\n",
            "input_5 (InputLayer)            [(None, 96, 96, 3)]  0                                            \n",
            "__________________________________________________________________________________________________\n",
            "conv2d_96 (Conv2D)              (None, 47, 47, 32)   864         input_5[0][0]                    \n",
            "__________________________________________________________________________________________________\n",
            "batch_normalization_94 (BatchNo (None, 47, 47, 32)   96          conv2d_96[0][0]                  \n",
            "__________________________________________________________________________________________________\n",
            "activation_94 (Activation)      (None, 47, 47, 32)   0           batch_normalization_94[0][0]     \n",
            "__________________________________________________________________________________________________\n",
            "conv2d_97 (Conv2D)              (None, 45, 45, 32)   9216        activation_94[0][0]              \n",
            "__________________________________________________________________________________________________\n",
            "batch_normalization_95 (BatchNo (None, 45, 45, 32)   96          conv2d_97[0][0]                  \n",
            "__________________________________________________________________________________________________\n",
            "activation_95 (Activation)      (None, 45, 45, 32)   0           batch_normalization_95[0][0]     \n",
            "__________________________________________________________________________________________________\n",
            "conv2d_98 (Conv2D)              (None, 45, 45, 64)   18432       activation_95[0][0]              \n",
            "__________________________________________________________________________________________________\n",
            "batch_normalization_96 (BatchNo (None, 45, 45, 64)   192         conv2d_98[0][0]                  \n",
            "__________________________________________________________________________________________________\n",
            "activation_96 (Activation)      (None, 45, 45, 64)   0           batch_normalization_96[0][0]     \n",
            "__________________________________________________________________________________________________\n",
            "max_pooling2d_5 (MaxPooling2D)  (None, 22, 22, 64)   0           activation_96[0][0]              \n",
            "__________________________________________________________________________________________________\n",
            "conv2d_99 (Conv2D)              (None, 22, 22, 80)   5120        max_pooling2d_5[0][0]            \n",
            "__________________________________________________________________________________________________\n",
            "batch_normalization_97 (BatchNo (None, 22, 22, 80)   240         conv2d_99[0][0]                  \n",
            "__________________________________________________________________________________________________\n",
            "activation_97 (Activation)      (None, 22, 22, 80)   0           batch_normalization_97[0][0]     \n",
            "__________________________________________________________________________________________________\n",
            "conv2d_100 (Conv2D)             (None, 20, 20, 192)  138240      activation_97[0][0]              \n",
            "__________________________________________________________________________________________________\n",
            "batch_normalization_98 (BatchNo (None, 20, 20, 192)  576         conv2d_100[0][0]                 \n",
            "__________________________________________________________________________________________________\n",
            "activation_98 (Activation)      (None, 20, 20, 192)  0           batch_normalization_98[0][0]     \n",
            "__________________________________________________________________________________________________\n",
            "max_pooling2d_6 (MaxPooling2D)  (None, 9, 9, 192)    0           activation_98[0][0]              \n",
            "__________________________________________________________________________________________________\n",
            "conv2d_104 (Conv2D)             (None, 9, 9, 64)     12288       max_pooling2d_6[0][0]            \n",
            "__________________________________________________________________________________________________\n",
            "batch_normalization_102 (BatchN (None, 9, 9, 64)     192         conv2d_104[0][0]                 \n",
            "__________________________________________________________________________________________________\n",
            "activation_102 (Activation)     (None, 9, 9, 64)     0           batch_normalization_102[0][0]    \n",
            "__________________________________________________________________________________________________\n",
            "conv2d_102 (Conv2D)             (None, 9, 9, 48)     9216        max_pooling2d_6[0][0]            \n",
            "__________________________________________________________________________________________________\n",
            "conv2d_105 (Conv2D)             (None, 9, 9, 96)     55296       activation_102[0][0]             \n",
            "__________________________________________________________________________________________________\n",
            "batch_normalization_100 (BatchN (None, 9, 9, 48)     144         conv2d_102[0][0]                 \n",
            "__________________________________________________________________________________________________\n",
            "batch_normalization_103 (BatchN (None, 9, 9, 96)     288         conv2d_105[0][0]                 \n",
            "__________________________________________________________________________________________________\n",
            "activation_100 (Activation)     (None, 9, 9, 48)     0           batch_normalization_100[0][0]    \n",
            "__________________________________________________________________________________________________\n",
            "activation_103 (Activation)     (None, 9, 9, 96)     0           batch_normalization_103[0][0]    \n",
            "__________________________________________________________________________________________________\n",
            "average_pooling2d_9 (AveragePoo (None, 9, 9, 192)    0           max_pooling2d_6[0][0]            \n",
            "__________________________________________________________________________________________________\n",
            "conv2d_101 (Conv2D)             (None, 9, 9, 64)     12288       max_pooling2d_6[0][0]            \n",
            "__________________________________________________________________________________________________\n",
            "conv2d_103 (Conv2D)             (None, 9, 9, 64)     76800       activation_100[0][0]             \n",
            "__________________________________________________________________________________________________\n",
            "conv2d_106 (Conv2D)             (None, 9, 9, 96)     82944       activation_103[0][0]             \n",
            "__________________________________________________________________________________________________\n",
            "conv2d_107 (Conv2D)             (None, 9, 9, 32)     6144        average_pooling2d_9[0][0]        \n",
            "__________________________________________________________________________________________________\n",
            "batch_normalization_99 (BatchNo (None, 9, 9, 64)     192         conv2d_101[0][0]                 \n",
            "__________________________________________________________________________________________________\n",
            "batch_normalization_101 (BatchN (None, 9, 9, 64)     192         conv2d_103[0][0]                 \n",
            "__________________________________________________________________________________________________\n",
            "batch_normalization_104 (BatchN (None, 9, 9, 96)     288         conv2d_106[0][0]                 \n",
            "__________________________________________________________________________________________________\n",
            "batch_normalization_105 (BatchN (None, 9, 9, 32)     96          conv2d_107[0][0]                 \n",
            "__________________________________________________________________________________________________\n",
            "activation_99 (Activation)      (None, 9, 9, 64)     0           batch_normalization_99[0][0]     \n",
            "__________________________________________________________________________________________________\n",
            "activation_101 (Activation)     (None, 9, 9, 64)     0           batch_normalization_101[0][0]    \n",
            "__________________________________________________________________________________________________\n",
            "activation_104 (Activation)     (None, 9, 9, 96)     0           batch_normalization_104[0][0]    \n",
            "__________________________________________________________________________________________________\n",
            "activation_105 (Activation)     (None, 9, 9, 32)     0           batch_normalization_105[0][0]    \n",
            "__________________________________________________________________________________________________\n",
            "mixed0 (Concatenate)            (None, 9, 9, 256)    0           activation_99[0][0]              \n",
            "                                                                 activation_101[0][0]             \n",
            "                                                                 activation_104[0][0]             \n",
            "                                                                 activation_105[0][0]             \n",
            "__________________________________________________________________________________________________\n",
            "conv2d_111 (Conv2D)             (None, 9, 9, 64)     16384       mixed0[0][0]                     \n",
            "__________________________________________________________________________________________________\n",
            "batch_normalization_109 (BatchN (None, 9, 9, 64)     192         conv2d_111[0][0]                 \n",
            "__________________________________________________________________________________________________\n",
            "activation_109 (Activation)     (None, 9, 9, 64)     0           batch_normalization_109[0][0]    \n",
            "__________________________________________________________________________________________________\n",
            "conv2d_109 (Conv2D)             (None, 9, 9, 48)     12288       mixed0[0][0]                     \n",
            "__________________________________________________________________________________________________\n",
            "conv2d_112 (Conv2D)             (None, 9, 9, 96)     55296       activation_109[0][0]             \n",
            "__________________________________________________________________________________________________\n",
            "batch_normalization_107 (BatchN (None, 9, 9, 48)     144         conv2d_109[0][0]                 \n",
            "__________________________________________________________________________________________________\n",
            "batch_normalization_110 (BatchN (None, 9, 9, 96)     288         conv2d_112[0][0]                 \n",
            "__________________________________________________________________________________________________\n",
            "activation_107 (Activation)     (None, 9, 9, 48)     0           batch_normalization_107[0][0]    \n",
            "__________________________________________________________________________________________________\n",
            "activation_110 (Activation)     (None, 9, 9, 96)     0           batch_normalization_110[0][0]    \n",
            "__________________________________________________________________________________________________\n",
            "average_pooling2d_10 (AveragePo (None, 9, 9, 256)    0           mixed0[0][0]                     \n",
            "__________________________________________________________________________________________________\n",
            "conv2d_108 (Conv2D)             (None, 9, 9, 64)     16384       mixed0[0][0]                     \n",
            "__________________________________________________________________________________________________\n",
            "conv2d_110 (Conv2D)             (None, 9, 9, 64)     76800       activation_107[0][0]             \n",
            "__________________________________________________________________________________________________\n",
            "conv2d_113 (Conv2D)             (None, 9, 9, 96)     82944       activation_110[0][0]             \n",
            "__________________________________________________________________________________________________\n",
            "conv2d_114 (Conv2D)             (None, 9, 9, 64)     16384       average_pooling2d_10[0][0]       \n",
            "__________________________________________________________________________________________________\n",
            "batch_normalization_106 (BatchN (None, 9, 9, 64)     192         conv2d_108[0][0]                 \n",
            "__________________________________________________________________________________________________\n",
            "batch_normalization_108 (BatchN (None, 9, 9, 64)     192         conv2d_110[0][0]                 \n",
            "__________________________________________________________________________________________________\n",
            "batch_normalization_111 (BatchN (None, 9, 9, 96)     288         conv2d_113[0][0]                 \n",
            "__________________________________________________________________________________________________\n",
            "batch_normalization_112 (BatchN (None, 9, 9, 64)     192         conv2d_114[0][0]                 \n",
            "__________________________________________________________________________________________________\n",
            "activation_106 (Activation)     (None, 9, 9, 64)     0           batch_normalization_106[0][0]    \n",
            "__________________________________________________________________________________________________\n",
            "activation_108 (Activation)     (None, 9, 9, 64)     0           batch_normalization_108[0][0]    \n",
            "__________________________________________________________________________________________________\n",
            "activation_111 (Activation)     (None, 9, 9, 96)     0           batch_normalization_111[0][0]    \n",
            "__________________________________________________________________________________________________\n",
            "activation_112 (Activation)     (None, 9, 9, 64)     0           batch_normalization_112[0][0]    \n",
            "__________________________________________________________________________________________________\n",
            "mixed1 (Concatenate)            (None, 9, 9, 288)    0           activation_106[0][0]             \n",
            "                                                                 activation_108[0][0]             \n",
            "                                                                 activation_111[0][0]             \n",
            "                                                                 activation_112[0][0]             \n",
            "__________________________________________________________________________________________________\n",
            "conv2d_118 (Conv2D)             (None, 9, 9, 64)     18432       mixed1[0][0]                     \n",
            "__________________________________________________________________________________________________\n",
            "batch_normalization_116 (BatchN (None, 9, 9, 64)     192         conv2d_118[0][0]                 \n",
            "__________________________________________________________________________________________________\n",
            "activation_116 (Activation)     (None, 9, 9, 64)     0           batch_normalization_116[0][0]    \n",
            "__________________________________________________________________________________________________\n",
            "conv2d_116 (Conv2D)             (None, 9, 9, 48)     13824       mixed1[0][0]                     \n",
            "__________________________________________________________________________________________________\n",
            "conv2d_119 (Conv2D)             (None, 9, 9, 96)     55296       activation_116[0][0]             \n",
            "__________________________________________________________________________________________________\n",
            "batch_normalization_114 (BatchN (None, 9, 9, 48)     144         conv2d_116[0][0]                 \n",
            "__________________________________________________________________________________________________\n",
            "batch_normalization_117 (BatchN (None, 9, 9, 96)     288         conv2d_119[0][0]                 \n",
            "__________________________________________________________________________________________________\n",
            "activation_114 (Activation)     (None, 9, 9, 48)     0           batch_normalization_114[0][0]    \n",
            "__________________________________________________________________________________________________\n",
            "activation_117 (Activation)     (None, 9, 9, 96)     0           batch_normalization_117[0][0]    \n",
            "__________________________________________________________________________________________________\n",
            "average_pooling2d_11 (AveragePo (None, 9, 9, 288)    0           mixed1[0][0]                     \n",
            "__________________________________________________________________________________________________\n",
            "conv2d_115 (Conv2D)             (None, 9, 9, 64)     18432       mixed1[0][0]                     \n",
            "__________________________________________________________________________________________________\n",
            "conv2d_117 (Conv2D)             (None, 9, 9, 64)     76800       activation_114[0][0]             \n",
            "__________________________________________________________________________________________________\n",
            "conv2d_120 (Conv2D)             (None, 9, 9, 96)     82944       activation_117[0][0]             \n",
            "__________________________________________________________________________________________________\n",
            "conv2d_121 (Conv2D)             (None, 9, 9, 64)     18432       average_pooling2d_11[0][0]       \n",
            "__________________________________________________________________________________________________\n",
            "batch_normalization_113 (BatchN (None, 9, 9, 64)     192         conv2d_115[0][0]                 \n",
            "__________________________________________________________________________________________________\n",
            "batch_normalization_115 (BatchN (None, 9, 9, 64)     192         conv2d_117[0][0]                 \n",
            "__________________________________________________________________________________________________\n",
            "batch_normalization_118 (BatchN (None, 9, 9, 96)     288         conv2d_120[0][0]                 \n",
            "__________________________________________________________________________________________________\n",
            "batch_normalization_119 (BatchN (None, 9, 9, 64)     192         conv2d_121[0][0]                 \n",
            "__________________________________________________________________________________________________\n",
            "activation_113 (Activation)     (None, 9, 9, 64)     0           batch_normalization_113[0][0]    \n",
            "__________________________________________________________________________________________________\n",
            "activation_115 (Activation)     (None, 9, 9, 64)     0           batch_normalization_115[0][0]    \n",
            "__________________________________________________________________________________________________\n",
            "activation_118 (Activation)     (None, 9, 9, 96)     0           batch_normalization_118[0][0]    \n",
            "__________________________________________________________________________________________________\n",
            "activation_119 (Activation)     (None, 9, 9, 64)     0           batch_normalization_119[0][0]    \n",
            "__________________________________________________________________________________________________\n",
            "mixed2 (Concatenate)            (None, 9, 9, 288)    0           activation_113[0][0]             \n",
            "                                                                 activation_115[0][0]             \n",
            "                                                                 activation_118[0][0]             \n",
            "                                                                 activation_119[0][0]             \n",
            "__________________________________________________________________________________________________\n",
            "conv2d_123 (Conv2D)             (None, 9, 9, 64)     18432       mixed2[0][0]                     \n",
            "__________________________________________________________________________________________________\n",
            "batch_normalization_121 (BatchN (None, 9, 9, 64)     192         conv2d_123[0][0]                 \n",
            "__________________________________________________________________________________________________\n",
            "activation_121 (Activation)     (None, 9, 9, 64)     0           batch_normalization_121[0][0]    \n",
            "__________________________________________________________________________________________________\n",
            "conv2d_124 (Conv2D)             (None, 9, 9, 96)     55296       activation_121[0][0]             \n",
            "__________________________________________________________________________________________________\n",
            "batch_normalization_122 (BatchN (None, 9, 9, 96)     288         conv2d_124[0][0]                 \n",
            "__________________________________________________________________________________________________\n",
            "activation_122 (Activation)     (None, 9, 9, 96)     0           batch_normalization_122[0][0]    \n",
            "__________________________________________________________________________________________________\n",
            "conv2d_122 (Conv2D)             (None, 4, 4, 384)    995328      mixed2[0][0]                     \n",
            "__________________________________________________________________________________________________\n",
            "conv2d_125 (Conv2D)             (None, 4, 4, 96)     82944       activation_122[0][0]             \n",
            "__________________________________________________________________________________________________\n",
            "batch_normalization_120 (BatchN (None, 4, 4, 384)    1152        conv2d_122[0][0]                 \n",
            "__________________________________________________________________________________________________\n",
            "batch_normalization_123 (BatchN (None, 4, 4, 96)     288         conv2d_125[0][0]                 \n",
            "__________________________________________________________________________________________________\n",
            "activation_120 (Activation)     (None, 4, 4, 384)    0           batch_normalization_120[0][0]    \n",
            "__________________________________________________________________________________________________\n",
            "activation_123 (Activation)     (None, 4, 4, 96)     0           batch_normalization_123[0][0]    \n",
            "__________________________________________________________________________________________________\n",
            "max_pooling2d_7 (MaxPooling2D)  (None, 4, 4, 288)    0           mixed2[0][0]                     \n",
            "__________________________________________________________________________________________________\n",
            "mixed3 (Concatenate)            (None, 4, 4, 768)    0           activation_120[0][0]             \n",
            "                                                                 activation_123[0][0]             \n",
            "                                                                 max_pooling2d_7[0][0]            \n",
            "__________________________________________________________________________________________________\n",
            "conv2d_130 (Conv2D)             (None, 4, 4, 128)    98304       mixed3[0][0]                     \n",
            "__________________________________________________________________________________________________\n",
            "batch_normalization_128 (BatchN (None, 4, 4, 128)    384         conv2d_130[0][0]                 \n",
            "__________________________________________________________________________________________________\n",
            "activation_128 (Activation)     (None, 4, 4, 128)    0           batch_normalization_128[0][0]    \n",
            "__________________________________________________________________________________________________\n",
            "conv2d_131 (Conv2D)             (None, 4, 4, 128)    114688      activation_128[0][0]             \n",
            "__________________________________________________________________________________________________\n",
            "batch_normalization_129 (BatchN (None, 4, 4, 128)    384         conv2d_131[0][0]                 \n",
            "__________________________________________________________________________________________________\n",
            "activation_129 (Activation)     (None, 4, 4, 128)    0           batch_normalization_129[0][0]    \n",
            "__________________________________________________________________________________________________\n",
            "conv2d_127 (Conv2D)             (None, 4, 4, 128)    98304       mixed3[0][0]                     \n",
            "__________________________________________________________________________________________________\n",
            "conv2d_132 (Conv2D)             (None, 4, 4, 128)    114688      activation_129[0][0]             \n",
            "__________________________________________________________________________________________________\n",
            "batch_normalization_125 (BatchN (None, 4, 4, 128)    384         conv2d_127[0][0]                 \n",
            "__________________________________________________________________________________________________\n",
            "batch_normalization_130 (BatchN (None, 4, 4, 128)    384         conv2d_132[0][0]                 \n",
            "__________________________________________________________________________________________________\n",
            "activation_125 (Activation)     (None, 4, 4, 128)    0           batch_normalization_125[0][0]    \n",
            "__________________________________________________________________________________________________\n",
            "activation_130 (Activation)     (None, 4, 4, 128)    0           batch_normalization_130[0][0]    \n",
            "__________________________________________________________________________________________________\n",
            "conv2d_128 (Conv2D)             (None, 4, 4, 128)    114688      activation_125[0][0]             \n",
            "__________________________________________________________________________________________________\n",
            "conv2d_133 (Conv2D)             (None, 4, 4, 128)    114688      activation_130[0][0]             \n",
            "__________________________________________________________________________________________________\n",
            "batch_normalization_126 (BatchN (None, 4, 4, 128)    384         conv2d_128[0][0]                 \n",
            "__________________________________________________________________________________________________\n",
            "batch_normalization_131 (BatchN (None, 4, 4, 128)    384         conv2d_133[0][0]                 \n",
            "__________________________________________________________________________________________________\n",
            "activation_126 (Activation)     (None, 4, 4, 128)    0           batch_normalization_126[0][0]    \n",
            "__________________________________________________________________________________________________\n",
            "activation_131 (Activation)     (None, 4, 4, 128)    0           batch_normalization_131[0][0]    \n",
            "__________________________________________________________________________________________________\n",
            "average_pooling2d_12 (AveragePo (None, 4, 4, 768)    0           mixed3[0][0]                     \n",
            "__________________________________________________________________________________________________\n",
            "conv2d_126 (Conv2D)             (None, 4, 4, 192)    147456      mixed3[0][0]                     \n",
            "__________________________________________________________________________________________________\n",
            "conv2d_129 (Conv2D)             (None, 4, 4, 192)    172032      activation_126[0][0]             \n",
            "__________________________________________________________________________________________________\n",
            "conv2d_134 (Conv2D)             (None, 4, 4, 192)    172032      activation_131[0][0]             \n",
            "__________________________________________________________________________________________________\n",
            "conv2d_135 (Conv2D)             (None, 4, 4, 192)    147456      average_pooling2d_12[0][0]       \n",
            "__________________________________________________________________________________________________\n",
            "batch_normalization_124 (BatchN (None, 4, 4, 192)    576         conv2d_126[0][0]                 \n",
            "__________________________________________________________________________________________________\n",
            "batch_normalization_127 (BatchN (None, 4, 4, 192)    576         conv2d_129[0][0]                 \n",
            "__________________________________________________________________________________________________\n",
            "batch_normalization_132 (BatchN (None, 4, 4, 192)    576         conv2d_134[0][0]                 \n",
            "__________________________________________________________________________________________________\n",
            "batch_normalization_133 (BatchN (None, 4, 4, 192)    576         conv2d_135[0][0]                 \n",
            "__________________________________________________________________________________________________\n",
            "activation_124 (Activation)     (None, 4, 4, 192)    0           batch_normalization_124[0][0]    \n",
            "__________________________________________________________________________________________________\n",
            "activation_127 (Activation)     (None, 4, 4, 192)    0           batch_normalization_127[0][0]    \n",
            "__________________________________________________________________________________________________\n",
            "activation_132 (Activation)     (None, 4, 4, 192)    0           batch_normalization_132[0][0]    \n",
            "__________________________________________________________________________________________________\n",
            "activation_133 (Activation)     (None, 4, 4, 192)    0           batch_normalization_133[0][0]    \n",
            "__________________________________________________________________________________________________\n",
            "mixed4 (Concatenate)            (None, 4, 4, 768)    0           activation_124[0][0]             \n",
            "                                                                 activation_127[0][0]             \n",
            "                                                                 activation_132[0][0]             \n",
            "                                                                 activation_133[0][0]             \n",
            "__________________________________________________________________________________________________\n",
            "conv2d_140 (Conv2D)             (None, 4, 4, 160)    122880      mixed4[0][0]                     \n",
            "__________________________________________________________________________________________________\n",
            "batch_normalization_138 (BatchN (None, 4, 4, 160)    480         conv2d_140[0][0]                 \n",
            "__________________________________________________________________________________________________\n",
            "activation_138 (Activation)     (None, 4, 4, 160)    0           batch_normalization_138[0][0]    \n",
            "__________________________________________________________________________________________________\n",
            "conv2d_141 (Conv2D)             (None, 4, 4, 160)    179200      activation_138[0][0]             \n",
            "__________________________________________________________________________________________________\n",
            "batch_normalization_139 (BatchN (None, 4, 4, 160)    480         conv2d_141[0][0]                 \n",
            "__________________________________________________________________________________________________\n",
            "activation_139 (Activation)     (None, 4, 4, 160)    0           batch_normalization_139[0][0]    \n",
            "__________________________________________________________________________________________________\n",
            "conv2d_137 (Conv2D)             (None, 4, 4, 160)    122880      mixed4[0][0]                     \n",
            "__________________________________________________________________________________________________\n",
            "conv2d_142 (Conv2D)             (None, 4, 4, 160)    179200      activation_139[0][0]             \n",
            "__________________________________________________________________________________________________\n",
            "batch_normalization_135 (BatchN (None, 4, 4, 160)    480         conv2d_137[0][0]                 \n",
            "__________________________________________________________________________________________________\n",
            "batch_normalization_140 (BatchN (None, 4, 4, 160)    480         conv2d_142[0][0]                 \n",
            "__________________________________________________________________________________________________\n",
            "activation_135 (Activation)     (None, 4, 4, 160)    0           batch_normalization_135[0][0]    \n",
            "__________________________________________________________________________________________________\n",
            "activation_140 (Activation)     (None, 4, 4, 160)    0           batch_normalization_140[0][0]    \n",
            "__________________________________________________________________________________________________\n",
            "conv2d_138 (Conv2D)             (None, 4, 4, 160)    179200      activation_135[0][0]             \n",
            "__________________________________________________________________________________________________\n",
            "conv2d_143 (Conv2D)             (None, 4, 4, 160)    179200      activation_140[0][0]             \n",
            "__________________________________________________________________________________________________\n",
            "batch_normalization_136 (BatchN (None, 4, 4, 160)    480         conv2d_138[0][0]                 \n",
            "__________________________________________________________________________________________________\n",
            "batch_normalization_141 (BatchN (None, 4, 4, 160)    480         conv2d_143[0][0]                 \n",
            "__________________________________________________________________________________________________\n",
            "activation_136 (Activation)     (None, 4, 4, 160)    0           batch_normalization_136[0][0]    \n",
            "__________________________________________________________________________________________________\n",
            "activation_141 (Activation)     (None, 4, 4, 160)    0           batch_normalization_141[0][0]    \n",
            "__________________________________________________________________________________________________\n",
            "average_pooling2d_13 (AveragePo (None, 4, 4, 768)    0           mixed4[0][0]                     \n",
            "__________________________________________________________________________________________________\n",
            "conv2d_136 (Conv2D)             (None, 4, 4, 192)    147456      mixed4[0][0]                     \n",
            "__________________________________________________________________________________________________\n",
            "conv2d_139 (Conv2D)             (None, 4, 4, 192)    215040      activation_136[0][0]             \n",
            "__________________________________________________________________________________________________\n",
            "conv2d_144 (Conv2D)             (None, 4, 4, 192)    215040      activation_141[0][0]             \n",
            "__________________________________________________________________________________________________\n",
            "conv2d_145 (Conv2D)             (None, 4, 4, 192)    147456      average_pooling2d_13[0][0]       \n",
            "__________________________________________________________________________________________________\n",
            "batch_normalization_134 (BatchN (None, 4, 4, 192)    576         conv2d_136[0][0]                 \n",
            "__________________________________________________________________________________________________\n",
            "batch_normalization_137 (BatchN (None, 4, 4, 192)    576         conv2d_139[0][0]                 \n",
            "__________________________________________________________________________________________________\n",
            "batch_normalization_142 (BatchN (None, 4, 4, 192)    576         conv2d_144[0][0]                 \n",
            "__________________________________________________________________________________________________\n",
            "batch_normalization_143 (BatchN (None, 4, 4, 192)    576         conv2d_145[0][0]                 \n",
            "__________________________________________________________________________________________________\n",
            "activation_134 (Activation)     (None, 4, 4, 192)    0           batch_normalization_134[0][0]    \n",
            "__________________________________________________________________________________________________\n",
            "activation_137 (Activation)     (None, 4, 4, 192)    0           batch_normalization_137[0][0]    \n",
            "__________________________________________________________________________________________________\n",
            "activation_142 (Activation)     (None, 4, 4, 192)    0           batch_normalization_142[0][0]    \n",
            "__________________________________________________________________________________________________\n",
            "activation_143 (Activation)     (None, 4, 4, 192)    0           batch_normalization_143[0][0]    \n",
            "__________________________________________________________________________________________________\n",
            "mixed5 (Concatenate)            (None, 4, 4, 768)    0           activation_134[0][0]             \n",
            "                                                                 activation_137[0][0]             \n",
            "                                                                 activation_142[0][0]             \n",
            "                                                                 activation_143[0][0]             \n",
            "__________________________________________________________________________________________________\n",
            "conv2d_150 (Conv2D)             (None, 4, 4, 160)    122880      mixed5[0][0]                     \n",
            "__________________________________________________________________________________________________\n",
            "batch_normalization_148 (BatchN (None, 4, 4, 160)    480         conv2d_150[0][0]                 \n",
            "__________________________________________________________________________________________________\n",
            "activation_148 (Activation)     (None, 4, 4, 160)    0           batch_normalization_148[0][0]    \n",
            "__________________________________________________________________________________________________\n",
            "conv2d_151 (Conv2D)             (None, 4, 4, 160)    179200      activation_148[0][0]             \n",
            "__________________________________________________________________________________________________\n",
            "batch_normalization_149 (BatchN (None, 4, 4, 160)    480         conv2d_151[0][0]                 \n",
            "__________________________________________________________________________________________________\n",
            "activation_149 (Activation)     (None, 4, 4, 160)    0           batch_normalization_149[0][0]    \n",
            "__________________________________________________________________________________________________\n",
            "conv2d_147 (Conv2D)             (None, 4, 4, 160)    122880      mixed5[0][0]                     \n",
            "__________________________________________________________________________________________________\n",
            "conv2d_152 (Conv2D)             (None, 4, 4, 160)    179200      activation_149[0][0]             \n",
            "__________________________________________________________________________________________________\n",
            "batch_normalization_145 (BatchN (None, 4, 4, 160)    480         conv2d_147[0][0]                 \n",
            "__________________________________________________________________________________________________\n",
            "batch_normalization_150 (BatchN (None, 4, 4, 160)    480         conv2d_152[0][0]                 \n",
            "__________________________________________________________________________________________________\n",
            "activation_145 (Activation)     (None, 4, 4, 160)    0           batch_normalization_145[0][0]    \n",
            "__________________________________________________________________________________________________\n",
            "activation_150 (Activation)     (None, 4, 4, 160)    0           batch_normalization_150[0][0]    \n",
            "__________________________________________________________________________________________________\n",
            "conv2d_148 (Conv2D)             (None, 4, 4, 160)    179200      activation_145[0][0]             \n",
            "__________________________________________________________________________________________________\n",
            "conv2d_153 (Conv2D)             (None, 4, 4, 160)    179200      activation_150[0][0]             \n",
            "__________________________________________________________________________________________________\n",
            "batch_normalization_146 (BatchN (None, 4, 4, 160)    480         conv2d_148[0][0]                 \n",
            "__________________________________________________________________________________________________\n",
            "batch_normalization_151 (BatchN (None, 4, 4, 160)    480         conv2d_153[0][0]                 \n",
            "__________________________________________________________________________________________________\n",
            "activation_146 (Activation)     (None, 4, 4, 160)    0           batch_normalization_146[0][0]    \n",
            "__________________________________________________________________________________________________\n",
            "activation_151 (Activation)     (None, 4, 4, 160)    0           batch_normalization_151[0][0]    \n",
            "__________________________________________________________________________________________________\n",
            "average_pooling2d_14 (AveragePo (None, 4, 4, 768)    0           mixed5[0][0]                     \n",
            "__________________________________________________________________________________________________\n",
            "conv2d_146 (Conv2D)             (None, 4, 4, 192)    147456      mixed5[0][0]                     \n",
            "__________________________________________________________________________________________________\n",
            "conv2d_149 (Conv2D)             (None, 4, 4, 192)    215040      activation_146[0][0]             \n",
            "__________________________________________________________________________________________________\n",
            "conv2d_154 (Conv2D)             (None, 4, 4, 192)    215040      activation_151[0][0]             \n",
            "__________________________________________________________________________________________________\n",
            "conv2d_155 (Conv2D)             (None, 4, 4, 192)    147456      average_pooling2d_14[0][0]       \n",
            "__________________________________________________________________________________________________\n",
            "batch_normalization_144 (BatchN (None, 4, 4, 192)    576         conv2d_146[0][0]                 \n",
            "__________________________________________________________________________________________________\n",
            "batch_normalization_147 (BatchN (None, 4, 4, 192)    576         conv2d_149[0][0]                 \n",
            "__________________________________________________________________________________________________\n",
            "batch_normalization_152 (BatchN (None, 4, 4, 192)    576         conv2d_154[0][0]                 \n",
            "__________________________________________________________________________________________________\n",
            "batch_normalization_153 (BatchN (None, 4, 4, 192)    576         conv2d_155[0][0]                 \n",
            "__________________________________________________________________________________________________\n",
            "activation_144 (Activation)     (None, 4, 4, 192)    0           batch_normalization_144[0][0]    \n",
            "__________________________________________________________________________________________________\n",
            "activation_147 (Activation)     (None, 4, 4, 192)    0           batch_normalization_147[0][0]    \n",
            "__________________________________________________________________________________________________\n",
            "activation_152 (Activation)     (None, 4, 4, 192)    0           batch_normalization_152[0][0]    \n",
            "__________________________________________________________________________________________________\n",
            "activation_153 (Activation)     (None, 4, 4, 192)    0           batch_normalization_153[0][0]    \n",
            "__________________________________________________________________________________________________\n",
            "mixed6 (Concatenate)            (None, 4, 4, 768)    0           activation_144[0][0]             \n",
            "                                                                 activation_147[0][0]             \n",
            "                                                                 activation_152[0][0]             \n",
            "                                                                 activation_153[0][0]             \n",
            "__________________________________________________________________________________________________\n",
            "conv2d_160 (Conv2D)             (None, 4, 4, 192)    147456      mixed6[0][0]                     \n",
            "__________________________________________________________________________________________________\n",
            "batch_normalization_158 (BatchN (None, 4, 4, 192)    576         conv2d_160[0][0]                 \n",
            "__________________________________________________________________________________________________\n",
            "activation_158 (Activation)     (None, 4, 4, 192)    0           batch_normalization_158[0][0]    \n",
            "__________________________________________________________________________________________________\n",
            "conv2d_161 (Conv2D)             (None, 4, 4, 192)    258048      activation_158[0][0]             \n",
            "__________________________________________________________________________________________________\n",
            "batch_normalization_159 (BatchN (None, 4, 4, 192)    576         conv2d_161[0][0]                 \n",
            "__________________________________________________________________________________________________\n",
            "activation_159 (Activation)     (None, 4, 4, 192)    0           batch_normalization_159[0][0]    \n",
            "__________________________________________________________________________________________________\n",
            "conv2d_157 (Conv2D)             (None, 4, 4, 192)    147456      mixed6[0][0]                     \n",
            "__________________________________________________________________________________________________\n",
            "conv2d_162 (Conv2D)             (None, 4, 4, 192)    258048      activation_159[0][0]             \n",
            "__________________________________________________________________________________________________\n",
            "batch_normalization_155 (BatchN (None, 4, 4, 192)    576         conv2d_157[0][0]                 \n",
            "__________________________________________________________________________________________________\n",
            "batch_normalization_160 (BatchN (None, 4, 4, 192)    576         conv2d_162[0][0]                 \n",
            "__________________________________________________________________________________________________\n",
            "activation_155 (Activation)     (None, 4, 4, 192)    0           batch_normalization_155[0][0]    \n",
            "__________________________________________________________________________________________________\n",
            "activation_160 (Activation)     (None, 4, 4, 192)    0           batch_normalization_160[0][0]    \n",
            "__________________________________________________________________________________________________\n",
            "conv2d_158 (Conv2D)             (None, 4, 4, 192)    258048      activation_155[0][0]             \n",
            "__________________________________________________________________________________________________\n",
            "conv2d_163 (Conv2D)             (None, 4, 4, 192)    258048      activation_160[0][0]             \n",
            "__________________________________________________________________________________________________\n",
            "batch_normalization_156 (BatchN (None, 4, 4, 192)    576         conv2d_158[0][0]                 \n",
            "__________________________________________________________________________________________________\n",
            "batch_normalization_161 (BatchN (None, 4, 4, 192)    576         conv2d_163[0][0]                 \n",
            "__________________________________________________________________________________________________\n",
            "activation_156 (Activation)     (None, 4, 4, 192)    0           batch_normalization_156[0][0]    \n",
            "__________________________________________________________________________________________________\n",
            "activation_161 (Activation)     (None, 4, 4, 192)    0           batch_normalization_161[0][0]    \n",
            "__________________________________________________________________________________________________\n",
            "average_pooling2d_15 (AveragePo (None, 4, 4, 768)    0           mixed6[0][0]                     \n",
            "__________________________________________________________________________________________________\n",
            "conv2d_156 (Conv2D)             (None, 4, 4, 192)    147456      mixed6[0][0]                     \n",
            "__________________________________________________________________________________________________\n",
            "conv2d_159 (Conv2D)             (None, 4, 4, 192)    258048      activation_156[0][0]             \n",
            "__________________________________________________________________________________________________\n",
            "conv2d_164 (Conv2D)             (None, 4, 4, 192)    258048      activation_161[0][0]             \n",
            "__________________________________________________________________________________________________\n",
            "conv2d_165 (Conv2D)             (None, 4, 4, 192)    147456      average_pooling2d_15[0][0]       \n",
            "__________________________________________________________________________________________________\n",
            "batch_normalization_154 (BatchN (None, 4, 4, 192)    576         conv2d_156[0][0]                 \n",
            "__________________________________________________________________________________________________\n",
            "batch_normalization_157 (BatchN (None, 4, 4, 192)    576         conv2d_159[0][0]                 \n",
            "__________________________________________________________________________________________________\n",
            "batch_normalization_162 (BatchN (None, 4, 4, 192)    576         conv2d_164[0][0]                 \n",
            "__________________________________________________________________________________________________\n",
            "batch_normalization_163 (BatchN (None, 4, 4, 192)    576         conv2d_165[0][0]                 \n",
            "__________________________________________________________________________________________________\n",
            "activation_154 (Activation)     (None, 4, 4, 192)    0           batch_normalization_154[0][0]    \n",
            "__________________________________________________________________________________________________\n",
            "activation_157 (Activation)     (None, 4, 4, 192)    0           batch_normalization_157[0][0]    \n",
            "__________________________________________________________________________________________________\n",
            "activation_162 (Activation)     (None, 4, 4, 192)    0           batch_normalization_162[0][0]    \n",
            "__________________________________________________________________________________________________\n",
            "activation_163 (Activation)     (None, 4, 4, 192)    0           batch_normalization_163[0][0]    \n",
            "__________________________________________________________________________________________________\n",
            "mixed7 (Concatenate)            (None, 4, 4, 768)    0           activation_154[0][0]             \n",
            "                                                                 activation_157[0][0]             \n",
            "                                                                 activation_162[0][0]             \n",
            "                                                                 activation_163[0][0]             \n",
            "__________________________________________________________________________________________________\n",
            "conv2d_168 (Conv2D)             (None, 4, 4, 192)    147456      mixed7[0][0]                     \n",
            "__________________________________________________________________________________________________\n",
            "batch_normalization_166 (BatchN (None, 4, 4, 192)    576         conv2d_168[0][0]                 \n",
            "__________________________________________________________________________________________________\n",
            "activation_166 (Activation)     (None, 4, 4, 192)    0           batch_normalization_166[0][0]    \n",
            "__________________________________________________________________________________________________\n",
            "conv2d_169 (Conv2D)             (None, 4, 4, 192)    258048      activation_166[0][0]             \n",
            "__________________________________________________________________________________________________\n",
            "batch_normalization_167 (BatchN (None, 4, 4, 192)    576         conv2d_169[0][0]                 \n",
            "__________________________________________________________________________________________________\n",
            "activation_167 (Activation)     (None, 4, 4, 192)    0           batch_normalization_167[0][0]    \n",
            "__________________________________________________________________________________________________\n",
            "conv2d_166 (Conv2D)             (None, 4, 4, 192)    147456      mixed7[0][0]                     \n",
            "__________________________________________________________________________________________________\n",
            "conv2d_170 (Conv2D)             (None, 4, 4, 192)    258048      activation_167[0][0]             \n",
            "__________________________________________________________________________________________________\n",
            "batch_normalization_164 (BatchN (None, 4, 4, 192)    576         conv2d_166[0][0]                 \n",
            "__________________________________________________________________________________________________\n",
            "batch_normalization_168 (BatchN (None, 4, 4, 192)    576         conv2d_170[0][0]                 \n",
            "__________________________________________________________________________________________________\n",
            "activation_164 (Activation)     (None, 4, 4, 192)    0           batch_normalization_164[0][0]    \n",
            "__________________________________________________________________________________________________\n",
            "activation_168 (Activation)     (None, 4, 4, 192)    0           batch_normalization_168[0][0]    \n",
            "__________________________________________________________________________________________________\n",
            "conv2d_167 (Conv2D)             (None, 1, 1, 320)    552960      activation_164[0][0]             \n",
            "__________________________________________________________________________________________________\n",
            "conv2d_171 (Conv2D)             (None, 1, 1, 192)    331776      activation_168[0][0]             \n",
            "__________________________________________________________________________________________________\n",
            "batch_normalization_165 (BatchN (None, 1, 1, 320)    960         conv2d_167[0][0]                 \n",
            "__________________________________________________________________________________________________\n",
            "batch_normalization_169 (BatchN (None, 1, 1, 192)    576         conv2d_171[0][0]                 \n",
            "__________________________________________________________________________________________________\n",
            "activation_165 (Activation)     (None, 1, 1, 320)    0           batch_normalization_165[0][0]    \n",
            "__________________________________________________________________________________________________\n",
            "activation_169 (Activation)     (None, 1, 1, 192)    0           batch_normalization_169[0][0]    \n",
            "__________________________________________________________________________________________________\n",
            "max_pooling2d_8 (MaxPooling2D)  (None, 1, 1, 768)    0           mixed7[0][0]                     \n",
            "__________________________________________________________________________________________________\n",
            "mixed8 (Concatenate)            (None, 1, 1, 1280)   0           activation_165[0][0]             \n",
            "                                                                 activation_169[0][0]             \n",
            "                                                                 max_pooling2d_8[0][0]            \n",
            "__________________________________________________________________________________________________\n",
            "conv2d_176 (Conv2D)             (None, 1, 1, 448)    573440      mixed8[0][0]                     \n",
            "__________________________________________________________________________________________________\n",
            "batch_normalization_174 (BatchN (None, 1, 1, 448)    1344        conv2d_176[0][0]                 \n",
            "__________________________________________________________________________________________________\n",
            "activation_174 (Activation)     (None, 1, 1, 448)    0           batch_normalization_174[0][0]    \n",
            "__________________________________________________________________________________________________\n",
            "conv2d_173 (Conv2D)             (None, 1, 1, 384)    491520      mixed8[0][0]                     \n",
            "__________________________________________________________________________________________________\n",
            "conv2d_177 (Conv2D)             (None, 1, 1, 384)    1548288     activation_174[0][0]             \n",
            "__________________________________________________________________________________________________\n",
            "batch_normalization_171 (BatchN (None, 1, 1, 384)    1152        conv2d_173[0][0]                 \n",
            "__________________________________________________________________________________________________\n",
            "batch_normalization_175 (BatchN (None, 1, 1, 384)    1152        conv2d_177[0][0]                 \n",
            "__________________________________________________________________________________________________\n",
            "activation_171 (Activation)     (None, 1, 1, 384)    0           batch_normalization_171[0][0]    \n",
            "__________________________________________________________________________________________________\n",
            "activation_175 (Activation)     (None, 1, 1, 384)    0           batch_normalization_175[0][0]    \n",
            "__________________________________________________________________________________________________\n",
            "conv2d_174 (Conv2D)             (None, 1, 1, 384)    442368      activation_171[0][0]             \n",
            "__________________________________________________________________________________________________\n",
            "conv2d_175 (Conv2D)             (None, 1, 1, 384)    442368      activation_171[0][0]             \n",
            "__________________________________________________________________________________________________\n",
            "conv2d_178 (Conv2D)             (None, 1, 1, 384)    442368      activation_175[0][0]             \n",
            "__________________________________________________________________________________________________\n",
            "conv2d_179 (Conv2D)             (None, 1, 1, 384)    442368      activation_175[0][0]             \n",
            "__________________________________________________________________________________________________\n",
            "average_pooling2d_16 (AveragePo (None, 1, 1, 1280)   0           mixed8[0][0]                     \n",
            "__________________________________________________________________________________________________\n",
            "conv2d_172 (Conv2D)             (None, 1, 1, 320)    409600      mixed8[0][0]                     \n",
            "__________________________________________________________________________________________________\n",
            "batch_normalization_172 (BatchN (None, 1, 1, 384)    1152        conv2d_174[0][0]                 \n",
            "__________________________________________________________________________________________________\n",
            "batch_normalization_173 (BatchN (None, 1, 1, 384)    1152        conv2d_175[0][0]                 \n",
            "__________________________________________________________________________________________________\n",
            "batch_normalization_176 (BatchN (None, 1, 1, 384)    1152        conv2d_178[0][0]                 \n",
            "__________________________________________________________________________________________________\n",
            "batch_normalization_177 (BatchN (None, 1, 1, 384)    1152        conv2d_179[0][0]                 \n",
            "__________________________________________________________________________________________________\n",
            "conv2d_180 (Conv2D)             (None, 1, 1, 192)    245760      average_pooling2d_16[0][0]       \n",
            "__________________________________________________________________________________________________\n",
            "batch_normalization_170 (BatchN (None, 1, 1, 320)    960         conv2d_172[0][0]                 \n",
            "__________________________________________________________________________________________________\n",
            "activation_172 (Activation)     (None, 1, 1, 384)    0           batch_normalization_172[0][0]    \n",
            "__________________________________________________________________________________________________\n",
            "activation_173 (Activation)     (None, 1, 1, 384)    0           batch_normalization_173[0][0]    \n",
            "__________________________________________________________________________________________________\n",
            "activation_176 (Activation)     (None, 1, 1, 384)    0           batch_normalization_176[0][0]    \n",
            "__________________________________________________________________________________________________\n",
            "activation_177 (Activation)     (None, 1, 1, 384)    0           batch_normalization_177[0][0]    \n",
            "__________________________________________________________________________________________________\n",
            "batch_normalization_178 (BatchN (None, 1, 1, 192)    576         conv2d_180[0][0]                 \n",
            "__________________________________________________________________________________________________\n",
            "activation_170 (Activation)     (None, 1, 1, 320)    0           batch_normalization_170[0][0]    \n",
            "__________________________________________________________________________________________________\n",
            "mixed9_0 (Concatenate)          (None, 1, 1, 768)    0           activation_172[0][0]             \n",
            "                                                                 activation_173[0][0]             \n",
            "__________________________________________________________________________________________________\n",
            "concatenate_2 (Concatenate)     (None, 1, 1, 768)    0           activation_176[0][0]             \n",
            "                                                                 activation_177[0][0]             \n",
            "__________________________________________________________________________________________________\n",
            "activation_178 (Activation)     (None, 1, 1, 192)    0           batch_normalization_178[0][0]    \n",
            "__________________________________________________________________________________________________\n",
            "mixed9 (Concatenate)            (None, 1, 1, 2048)   0           activation_170[0][0]             \n",
            "                                                                 mixed9_0[0][0]                   \n",
            "                                                                 concatenate_2[0][0]              \n",
            "                                                                 activation_178[0][0]             \n",
            "__________________________________________________________________________________________________\n",
            "conv2d_185 (Conv2D)             (None, 1, 1, 448)    917504      mixed9[0][0]                     \n",
            "__________________________________________________________________________________________________\n",
            "batch_normalization_183 (BatchN (None, 1, 1, 448)    1344        conv2d_185[0][0]                 \n",
            "__________________________________________________________________________________________________\n",
            "activation_183 (Activation)     (None, 1, 1, 448)    0           batch_normalization_183[0][0]    \n",
            "__________________________________________________________________________________________________\n",
            "conv2d_182 (Conv2D)             (None, 1, 1, 384)    786432      mixed9[0][0]                     \n",
            "__________________________________________________________________________________________________\n",
            "conv2d_186 (Conv2D)             (None, 1, 1, 384)    1548288     activation_183[0][0]             \n",
            "__________________________________________________________________________________________________\n",
            "batch_normalization_180 (BatchN (None, 1, 1, 384)    1152        conv2d_182[0][0]                 \n",
            "__________________________________________________________________________________________________\n",
            "batch_normalization_184 (BatchN (None, 1, 1, 384)    1152        conv2d_186[0][0]                 \n",
            "__________________________________________________________________________________________________\n",
            "activation_180 (Activation)     (None, 1, 1, 384)    0           batch_normalization_180[0][0]    \n",
            "__________________________________________________________________________________________________\n",
            "activation_184 (Activation)     (None, 1, 1, 384)    0           batch_normalization_184[0][0]    \n",
            "__________________________________________________________________________________________________\n",
            "conv2d_183 (Conv2D)             (None, 1, 1, 384)    442368      activation_180[0][0]             \n",
            "__________________________________________________________________________________________________\n",
            "conv2d_184 (Conv2D)             (None, 1, 1, 384)    442368      activation_180[0][0]             \n",
            "__________________________________________________________________________________________________\n",
            "conv2d_187 (Conv2D)             (None, 1, 1, 384)    442368      activation_184[0][0]             \n",
            "__________________________________________________________________________________________________\n",
            "conv2d_188 (Conv2D)             (None, 1, 1, 384)    442368      activation_184[0][0]             \n",
            "__________________________________________________________________________________________________\n",
            "average_pooling2d_17 (AveragePo (None, 1, 1, 2048)   0           mixed9[0][0]                     \n",
            "__________________________________________________________________________________________________\n",
            "conv2d_181 (Conv2D)             (None, 1, 1, 320)    655360      mixed9[0][0]                     \n",
            "__________________________________________________________________________________________________\n",
            "batch_normalization_181 (BatchN (None, 1, 1, 384)    1152        conv2d_183[0][0]                 \n",
            "__________________________________________________________________________________________________\n",
            "batch_normalization_182 (BatchN (None, 1, 1, 384)    1152        conv2d_184[0][0]                 \n",
            "__________________________________________________________________________________________________\n",
            "batch_normalization_185 (BatchN (None, 1, 1, 384)    1152        conv2d_187[0][0]                 \n",
            "__________________________________________________________________________________________________\n",
            "batch_normalization_186 (BatchN (None, 1, 1, 384)    1152        conv2d_188[0][0]                 \n",
            "__________________________________________________________________________________________________\n",
            "conv2d_189 (Conv2D)             (None, 1, 1, 192)    393216      average_pooling2d_17[0][0]       \n",
            "__________________________________________________________________________________________________\n",
            "batch_normalization_179 (BatchN (None, 1, 1, 320)    960         conv2d_181[0][0]                 \n",
            "__________________________________________________________________________________________________\n",
            "activation_181 (Activation)     (None, 1, 1, 384)    0           batch_normalization_181[0][0]    \n",
            "__________________________________________________________________________________________________\n",
            "activation_182 (Activation)     (None, 1, 1, 384)    0           batch_normalization_182[0][0]    \n",
            "__________________________________________________________________________________________________\n",
            "activation_185 (Activation)     (None, 1, 1, 384)    0           batch_normalization_185[0][0]    \n",
            "__________________________________________________________________________________________________\n",
            "activation_186 (Activation)     (None, 1, 1, 384)    0           batch_normalization_186[0][0]    \n",
            "__________________________________________________________________________________________________\n",
            "batch_normalization_187 (BatchN (None, 1, 1, 192)    576         conv2d_189[0][0]                 \n",
            "__________________________________________________________________________________________________\n",
            "activation_179 (Activation)     (None, 1, 1, 320)    0           batch_normalization_179[0][0]    \n",
            "__________________________________________________________________________________________________\n",
            "mixed9_1 (Concatenate)          (None, 1, 1, 768)    0           activation_181[0][0]             \n",
            "                                                                 activation_182[0][0]             \n",
            "__________________________________________________________________________________________________\n",
            "concatenate_3 (Concatenate)     (None, 1, 1, 768)    0           activation_185[0][0]             \n",
            "                                                                 activation_186[0][0]             \n",
            "__________________________________________________________________________________________________\n",
            "activation_187 (Activation)     (None, 1, 1, 192)    0           batch_normalization_187[0][0]    \n",
            "__________________________________________________________________________________________________\n",
            "mixed10 (Concatenate)           (None, 1, 1, 2048)   0           activation_179[0][0]             \n",
            "                                                                 mixed9_1[0][0]                   \n",
            "                                                                 concatenate_3[0][0]              \n",
            "                                                                 activation_187[0][0]             \n",
            "==================================================================================================\n",
            "Total params: 21,802,784\n",
            "Trainable params: 21,768,352\n",
            "Non-trainable params: 34,432\n",
            "__________________________________________________________________________________________________\n"
          ],
          "name": "stdout"
        }
      ]
    },
    {
      "cell_type": "code",
      "metadata": {
        "id": "fEeHVZs7jlz6"
      },
      "source": [
        "frozen_layers = 230       # Freezing the intial 200 layers"
      ],
      "execution_count": null,
      "outputs": []
    },
    {
      "cell_type": "code",
      "metadata": {
        "id": "RCz2l_eJkE-k"
      },
      "source": [
        "for layer in model_inc.layers[:frozen_layers]:          # Freezing the above chosen number of layers \n",
        "   layer.trainable = False"
      ],
      "execution_count": null,
      "outputs": []
    },
    {
      "cell_type": "code",
      "metadata": {
        "id": "b9YIRsRSl7_B"
      },
      "source": [
        "# model_inc.trainable = False      # Using pre-defined weights to test the model"
      ],
      "execution_count": null,
      "outputs": []
    },
    {
      "cell_type": "code",
      "metadata": {
        "id": "esyn-8JykMnU"
      },
      "source": [
        "model_3c = tf.keras.Sequential([\n",
        "    model_inc,\n",
        "    Dropout(0.2),                            # Dropout layer\n",
        "    Flatten(),\n",
        "    Dense(512, activation='relu'),          # Fully Connected layer 1\n",
        "    Dropout(0.2),                            # Dropout layer\n",
        "    Dense(256, activation='relu'),          # Fully COnnected Layer 2\n",
        "    Dropout(0.2),                            # Dropout layer\n",
        "    Dense(128, activation='relu'),            # Fully COnnected Layer 3\n",
        "  #  Dense(47, activation='sigmoid')         # Using Sigmoid Classifier for the final output\n",
        "    Dense(47, activation='softmax')         # Using Softmax Classifier for the final output\n",
        "])"
      ],
      "execution_count": null,
      "outputs": []
    },
    {
      "cell_type": "code",
      "metadata": {
        "id": "zkbJxckizgEB",
        "colab": {
          "base_uri": "https://localhost:8080/",
          "height": 454
        },
        "outputId": "ec697397-d0f2-4bc8-9ad7-d3a86b794740"
      },
      "source": [
        "model_3c.summary()"
      ],
      "execution_count": null,
      "outputs": [
        {
          "output_type": "stream",
          "text": [
            "Model: \"sequential_14\"\n",
            "_________________________________________________________________\n",
            "Layer (type)                 Output Shape              Param #   \n",
            "=================================================================\n",
            "inception_v3 (Model)         (None, 1, 1, 2048)        21802784  \n",
            "_________________________________________________________________\n",
            "dropout_7 (Dropout)          (None, 1, 1, 2048)        0         \n",
            "_________________________________________________________________\n",
            "flatten_14 (Flatten)         (None, 2048)              0         \n",
            "_________________________________________________________________\n",
            "dense_48 (Dense)             (None, 512)               1049088   \n",
            "_________________________________________________________________\n",
            "dropout_8 (Dropout)          (None, 512)               0         \n",
            "_________________________________________________________________\n",
            "dense_49 (Dense)             (None, 256)               131328    \n",
            "_________________________________________________________________\n",
            "dropout_9 (Dropout)          (None, 256)               0         \n",
            "_________________________________________________________________\n",
            "dense_50 (Dense)             (None, 128)               32896     \n",
            "_________________________________________________________________\n",
            "dense_51 (Dense)             (None, 47)                6063      \n",
            "=================================================================\n",
            "Total params: 23,022,159\n",
            "Trainable params: 1,219,375\n",
            "Non-trainable params: 21,802,784\n",
            "_________________________________________________________________\n"
          ],
          "name": "stdout"
        }
      ]
    },
    {
      "cell_type": "code",
      "metadata": {
        "id": "3FGmRDVWkNfC"
      },
      "source": [
        "optimizer = tf.keras.optimizers.Adam(0.0005)  # Using the Adam optimiser with initial learning at 0.0001"
      ],
      "execution_count": null,
      "outputs": []
    },
    {
      "cell_type": "code",
      "metadata": {
        "id": "zuw2Tzr_kWTg"
      },
      "source": [
        "model_3c.compile(loss='categorical_crossentropy', optimizer= optimizer , metrics=['accuracy']) # compiling the model with categorical cross entropy loss funciton"
      ],
      "execution_count": null,
      "outputs": []
    },
    {
      "cell_type": "code",
      "metadata": {
        "id": "Mm4eYRYFkY6d",
        "colab": {
          "base_uri": "https://localhost:8080/",
          "height": 353
        },
        "outputId": "0d5e7675-3d55-4fe1-e972-cd2e5d2e8fc4"
      },
      "source": [
        "history = model_3c.fit(train_dataflow\n",
        "                    ,steps_per_epoch= train_stepsize \n",
        "                    ,validation_data=val_dataflow\n",
        "                    ,validation_steps= val_stepsize \n",
        "                    ,epochs= 10\n",
        "                   )"
      ],
      "execution_count": null,
      "outputs": [
        {
          "output_type": "stream",
          "text": [
            "Epoch 1/10\n",
            "750/750 [==============================] - 95s 127ms/step - loss: 1.7853 - accuracy: 0.4989 - val_loss: 1.2731 - val_accuracy: 0.6100\n",
            "Epoch 2/10\n",
            "750/750 [==============================] - 95s 126ms/step - loss: 1.2955 - accuracy: 0.6038 - val_loss: 1.1633 - val_accuracy: 0.6329\n",
            "Epoch 3/10\n",
            "750/750 [==============================] - 95s 126ms/step - loss: 1.1954 - accuracy: 0.6272 - val_loss: 1.1024 - val_accuracy: 0.6492\n",
            "Epoch 4/10\n",
            "750/750 [==============================] - 96s 128ms/step - loss: 1.1277 - accuracy: 0.6471 - val_loss: 1.0799 - val_accuracy: 0.6657\n",
            "Epoch 5/10\n",
            "750/750 [==============================] - 95s 127ms/step - loss: 1.0906 - accuracy: 0.6568 - val_loss: 1.0217 - val_accuracy: 0.6851\n",
            "Epoch 6/10\n",
            "750/750 [==============================] - 95s 127ms/step - loss: 1.0685 - accuracy: 0.6641 - val_loss: 1.0248 - val_accuracy: 0.6815\n",
            "Epoch 7/10\n",
            "750/750 [==============================] - 97s 129ms/step - loss: 1.0405 - accuracy: 0.6692 - val_loss: 1.0136 - val_accuracy: 0.6836\n",
            "Epoch 8/10\n",
            "750/750 [==============================] - 97s 129ms/step - loss: 1.0292 - accuracy: 0.6700 - val_loss: 0.9719 - val_accuracy: 0.6946\n",
            "Epoch 9/10\n",
            "750/750 [==============================] - 97s 129ms/step - loss: 1.0029 - accuracy: 0.6836 - val_loss: 0.9635 - val_accuracy: 0.6993\n",
            "Epoch 10/10\n",
            "750/750 [==============================] - 97s 129ms/step - loss: 0.9995 - accuracy: 0.6842 - val_loss: 0.9949 - val_accuracy: 0.6967\n"
          ],
          "name": "stdout"
        }
      ]
    },
    {
      "cell_type": "code",
      "metadata": {
        "id": "-ydUXMCwtYrB",
        "colab": {
          "base_uri": "https://localhost:8080/",
          "height": 295
        },
        "outputId": "bb82337c-ab2c-4857-a7ac-6782dc98c8ec"
      },
      "source": [
        "# PLot the model training History - Accuracy\n",
        "import matplotlib.pyplot as plt\n",
        "\n",
        "plt.plot(history.history['accuracy'], label='training')\n",
        "plt.plot(history.history['val_accuracy'], label='validation')\n",
        "plt.title('model 3C accuracy')\n",
        "plt.ylabel('accuracy')\n",
        "plt.xlabel('epoch')\n",
        "plt.legend(['train', 'val'], loc='upper left')\n",
        "plt.show()"
      ],
      "execution_count": null,
      "outputs": [
        {
          "output_type": "display_data",
          "data": {
            "image/png": "[encoded data removed]",
            "text/plain": [
              "<Figure size 432x288 with 1 Axes>"
            ]
          },
          "metadata": {
            "tags": [],
            "needs_background": "light"
          }
        }
      ]
    },
    {
      "cell_type": "code",
      "metadata": {
        "id": "0p9MmSCStkQ3",
        "colab": {
          "base_uri": "https://localhost:8080/",
          "height": 295
        },
        "outputId": "d05fc88b-b1ca-45cc-8f72-c2f7906e740f"
      },
      "source": [
        "# PLot the model training History - Loss\n",
        "plt.plot(history.history['loss'])\n",
        "plt.plot(history.history['val_loss'])\n",
        "plt.title('model 3C loss')\n",
        "plt.ylabel('loss')\n",
        "plt.xlabel('epoch')\n",
        "plt.legend(['train', 'val'], loc='upper left')\n",
        "plt.show()"
      ],
      "execution_count": null,
      "outputs": [
        {
          "output_type": "display_data",
          "data": {
            "image/png": "[encoded data removed]",
            "text/plain": [
              "<Figure size 432x288 with 1 Axes>"
            ]
          },
          "metadata": {
            "tags": [],
            "needs_background": "light"
          }
        }
      ]
    },
    {
      "cell_type": "code",
      "metadata": {
        "id": "AECxj4YGtsN_"
      },
      "source": [
        "pred_3c = model_3b.predict(test_dataflow ) # Getting predicitons using the model\n",
        "pred_3c = np.argmax(pred_3c, 1) # predicting the class with the highest score as true or 1 "
      ],
      "execution_count": null,
      "outputs": []
    },
    {
      "cell_type": "code",
      "metadata": {
        "id": "c2PgCcAmtzcw",
        "colab": {
          "base_uri": "https://localhost:8080/",
          "height": 840
        },
        "outputId": "f72d8b3f-6396-486c-c418-ee4ac15a2ed4"
      },
      "source": [
        "from sklearn.metrics import classification_report\n",
        "\n",
        "print(classification_report(pred_3c, test_dataflow.classes, labels=np.unique(pred_3c)))"
      ],
      "execution_count": null,
      "outputs": [
        {
          "output_type": "stream",
          "text": [
            "              precision    recall  f1-score   support\n",
            "\n",
            "           0       0.93      0.94      0.93       181\n",
            "           1       0.51      0.63      0.57        65\n",
            "           2       0.95      0.93      0.94       476\n",
            "           3       0.93      1.00      0.96       198\n",
            "           4       0.99      1.00      0.99       304\n",
            "           5       0.88      0.91      0.89        78\n",
            "           6       0.93      0.99      0.96        95\n",
            "           7       0.94      0.93      0.93       177\n",
            "           8       1.00      0.96      0.98        77\n",
            "           9       0.93      0.84      0.88       262\n",
            "          10       0.99      0.92      0.95       724\n",
            "          11       0.58      0.95      0.72       100\n",
            "          12       0.40      1.00      0.57        21\n",
            "          13       0.91      0.90      0.90       140\n",
            "          14       0.40      0.74      0.52        43\n",
            "          15       0.96      0.51      0.67       270\n",
            "          16       0.35      0.68      0.46        66\n",
            "          17       0.96      0.97      0.97       120\n",
            "          18       0.97      0.97      0.97       205\n",
            "          19       0.60      0.81      0.69        48\n",
            "          20       0.13      0.64      0.22        11\n",
            "          22       0.86      0.97      0.91        95\n",
            "          24       0.71      0.39      0.50       106\n",
            "          25       0.96      0.67      0.79       680\n",
            "          26       0.06      0.31      0.10        13\n",
            "          27       0.91      0.91      0.91       780\n",
            "          28       0.38      0.53      0.44        57\n",
            "          29       0.44      0.56      0.49        71\n",
            "          30       0.43      0.67      0.52       312\n",
            "          31       0.95      0.85      0.90      2066\n",
            "          33       0.82      0.81      0.81       230\n",
            "          34       0.66      0.59      0.62       251\n",
            "          35       0.87      0.60      0.71      1050\n",
            "          36       0.01      1.00      0.01         1\n",
            "          37       0.54      0.70      0.61       120\n",
            "          38       0.50      0.78      0.61       231\n",
            "          40       0.74      0.82      0.78       489\n",
            "          41       0.88      0.86      0.87        84\n",
            "          42       0.64      0.96      0.77        96\n",
            "          43       0.85      1.00      0.92        70\n",
            "          44       1.00      0.90      0.95        83\n",
            "          46       1.00      1.00      1.00         2\n",
            "\n",
            "   micro avg       0.81      0.81      0.81     10548\n",
            "   macro avg       0.72      0.81      0.74     10548\n",
            "weighted avg       0.86      0.81      0.82     10548\n",
            "\n"
          ],
          "name": "stdout"
        }
      ]
    },
    {
      "cell_type": "markdown",
      "metadata": {
        "id": "H7X-M5_muK3o"
      },
      "source": [
        "###3D - VGG16 Extension"
      ]
    },
    {
      "cell_type": "code",
      "metadata": {
        "id": "bqMnGqLqyOcZ"
      },
      "source": [
        "from tensorflow.keras.applications import VGG16 #Loading VGG16 model\n",
        "model_vgg = VGG16(input_shape=input_shape, weights='imagenet', include_top=False)"
      ],
      "execution_count": null,
      "outputs": []
    },
    {
      "cell_type": "code",
      "metadata": {
        "id": "Dnj_AQ9z3X8-",
        "colab": {
          "base_uri": "https://localhost:8080/",
          "height": 790
        },
        "outputId": "377043e0-04ea-4790-8bae-77776fc02639"
      },
      "source": [
        "model_vgg.summary()"
      ],
      "execution_count": null,
      "outputs": [
        {
          "output_type": "stream",
          "text": [
            "Model: \"vgg16\"\n",
            "_________________________________________________________________\n",
            "Layer (type)                 Output Shape              Param #   \n",
            "=================================================================\n",
            "input_6 (InputLayer)         [(None, 96, 96, 3)]       0         \n",
            "_________________________________________________________________\n",
            "block1_conv1 (Conv2D)        (None, 96, 96, 64)        1792      \n",
            "_________________________________________________________________\n",
            "block1_conv2 (Conv2D)        (None, 96, 96, 64)        36928     \n",
            "_________________________________________________________________\n",
            "block1_pool (MaxPooling2D)   (None, 48, 48, 64)        0         \n",
            "_________________________________________________________________\n",
            "block2_conv1 (Conv2D)        (None, 48, 48, 128)       73856     \n",
            "_________________________________________________________________\n",
            "block2_conv2 (Conv2D)        (None, 48, 48, 128)       147584    \n",
            "_________________________________________________________________\n",
            "block2_pool (MaxPooling2D)   (None, 24, 24, 128)       0         \n",
            "_________________________________________________________________\n",
            "block3_conv1 (Conv2D)        (None, 24, 24, 256)       295168    \n",
            "_________________________________________________________________\n",
            "block3_conv2 (Conv2D)        (None, 24, 24, 256)       590080    \n",
            "_________________________________________________________________\n",
            "block3_conv3 (Conv2D)        (None, 24, 24, 256)       590080    \n",
            "_________________________________________________________________\n",
            "block3_pool (MaxPooling2D)   (None, 12, 12, 256)       0         \n",
            "_________________________________________________________________\n",
            "block4_conv1 (Conv2D)        (None, 12, 12, 512)       1180160   \n",
            "_________________________________________________________________\n",
            "block4_conv2 (Conv2D)        (None, 12, 12, 512)       2359808   \n",
            "_________________________________________________________________\n",
            "block4_conv3 (Conv2D)        (None, 12, 12, 512)       2359808   \n",
            "_________________________________________________________________\n",
            "block4_pool (MaxPooling2D)   (None, 6, 6, 512)         0         \n",
            "_________________________________________________________________\n",
            "block5_conv1 (Conv2D)        (None, 6, 6, 512)         2359808   \n",
            "_________________________________________________________________\n",
            "block5_conv2 (Conv2D)        (None, 6, 6, 512)         2359808   \n",
            "_________________________________________________________________\n",
            "block5_conv3 (Conv2D)        (None, 6, 6, 512)         2359808   \n",
            "_________________________________________________________________\n",
            "block5_pool (MaxPooling2D)   (None, 3, 3, 512)         0         \n",
            "=================================================================\n",
            "Total params: 14,714,688\n",
            "Trainable params: 14,714,688\n",
            "Non-trainable params: 0\n",
            "_________________________________________________________________\n"
          ],
          "name": "stdout"
        }
      ]
    },
    {
      "cell_type": "code",
      "metadata": {
        "id": "eA5Usi0nyUtY"
      },
      "source": [
        "#model_vgg.trainable = False"
      ],
      "execution_count": null,
      "outputs": []
    },
    {
      "cell_type": "code",
      "metadata": {
        "id": "-jTrHYVmcv8f"
      },
      "source": [
        "frozen_layers = 11    "
      ],
      "execution_count": null,
      "outputs": []
    },
    {
      "cell_type": "code",
      "metadata": {
        "id": "JeMtKj03cwGM"
      },
      "source": [
        "for layer in model_vgg.layers[:frozen_layers]:          # Freezing the above chosen number of layers \n",
        "   layer.trainable = False"
      ],
      "execution_count": null,
      "outputs": []
    },
    {
      "cell_type": "code",
      "metadata": {
        "id": "QW77Ge7uyohk"
      },
      "source": [
        "model_3d = tf.keras.Sequential([\n",
        "    model_vgg,\n",
        "    Dropout(0.1),                            # Dropout layer\n",
        "    Flatten(),\n",
        "    Dense(1028, activation='relu'),          # Fully Connected layer 1\n",
        "    Dense(256, activation='relu'),          # Fully COnnected Layer 2\n",
        "    Dropout(0.1),                            # Dropout Layer\n",
        "    # Dense(128, activation='relu'),            # Fully COnnected Layer 3\n",
        "    Dense(47, activation='sigmoid')         # Using Sigmoid Classifier for the final output\n",
        "    #Dense(47, activation='softmax')         # Using Softmax Classifier for the final output\n",
        "])"
      ],
      "execution_count": null,
      "outputs": []
    },
    {
      "cell_type": "code",
      "metadata": {
        "id": "drAsDSK0zaHV",
        "colab": {
          "base_uri": "https://localhost:8080/",
          "height": 386
        },
        "outputId": "e020a747-bd14-4d64-e1be-880cacf00431"
      },
      "source": [
        "model_3d.summary()"
      ],
      "execution_count": null,
      "outputs": [
        {
          "output_type": "stream",
          "text": [
            "Model: \"sequential_17\"\n",
            "_________________________________________________________________\n",
            "Layer (type)                 Output Shape              Param #   \n",
            "=================================================================\n",
            "vgg16 (Model)                (None, 3, 3, 512)         14714688  \n",
            "_________________________________________________________________\n",
            "dropout_10 (Dropout)         (None, 3, 3, 512)         0         \n",
            "_________________________________________________________________\n",
            "flatten_17 (Flatten)         (None, 4608)              0         \n",
            "_________________________________________________________________\n",
            "dense_58 (Dense)             (None, 1028)              4738052   \n",
            "_________________________________________________________________\n",
            "dense_59 (Dense)             (None, 256)               263424    \n",
            "_________________________________________________________________\n",
            "dropout_11 (Dropout)         (None, 256)               0         \n",
            "_________________________________________________________________\n",
            "dense_60 (Dense)             (None, 47)                12079     \n",
            "=================================================================\n",
            "Total params: 19,728,243\n",
            "Trainable params: 17,992,755\n",
            "Non-trainable params: 1,735,488\n",
            "_________________________________________________________________\n"
          ],
          "name": "stdout"
        }
      ]
    },
    {
      "cell_type": "code",
      "metadata": {
        "id": "f8PdNM6ly77O"
      },
      "source": [
        "optimizer = tf.keras.optimizers.Adam(0.00001)"
      ],
      "execution_count": null,
      "outputs": []
    },
    {
      "cell_type": "code",
      "metadata": {
        "id": "RfoLVyQCzBo1"
      },
      "source": [
        "model_3d.compile(loss='categorical_crossentropy', optimizer= optimizer , metrics=['accuracy']) # compiling the model with categorical cross entropy loss funciton"
      ],
      "execution_count": null,
      "outputs": []
    },
    {
      "cell_type": "code",
      "metadata": {
        "id": "HzEMA0Eq3xVK",
        "colab": {
          "base_uri": "https://localhost:8080/",
          "height": 286
        },
        "outputId": "5c3f1c90-8ee9-420f-dfa2-f5c1f5e7b248"
      },
      "source": [
        "history = model_3d.fit(train_dataflow\n",
        "                    ,steps_per_epoch= train_stepsize \n",
        "                    ,validation_data=val_dataflow\n",
        "                    ,validation_steps= val_stepsize \n",
        "                    ,epochs= 8\n",
        "                   )"
      ],
      "execution_count": null,
      "outputs": [
        {
          "output_type": "stream",
          "text": [
            "Epoch 1/8\n",
            "750/750 [==============================] - 95s 127ms/step - loss: 1.0456 - accuracy: 0.6629 - val_loss: 0.7792 - val_accuracy: 0.7325\n",
            "Epoch 2/8\n",
            "750/750 [==============================] - 97s 129ms/step - loss: 0.7056 - accuracy: 0.7611 - val_loss: 0.6457 - val_accuracy: 0.7888\n",
            "Epoch 3/8\n",
            "750/750 [==============================] - 97s 130ms/step - loss: 0.5976 - accuracy: 0.7969 - val_loss: 0.6979 - val_accuracy: 0.7888\n",
            "Epoch 4/8\n",
            "750/750 [==============================] - 98s 130ms/step - loss: 0.5275 - accuracy: 0.8222 - val_loss: 0.5719 - val_accuracy: 0.8061\n",
            "Epoch 5/8\n",
            "750/750 [==============================] - 97s 129ms/step - loss: 0.4743 - accuracy: 0.8362 - val_loss: 0.5580 - val_accuracy: 0.8182\n",
            "Epoch 6/8\n",
            "750/750 [==============================] - 96s 128ms/step - loss: 0.4499 - accuracy: 0.8465 - val_loss: 0.5620 - val_accuracy: 0.8214\n",
            "Epoch 7/8\n",
            "750/750 [==============================] - 96s 128ms/step - loss: 0.4147 - accuracy: 0.8565 - val_loss: 0.5279 - val_accuracy: 0.8340\n",
            "Epoch 8/8\n",
            "750/750 [==============================] - 96s 127ms/step - loss: 0.3969 - accuracy: 0.8612 - val_loss: 0.5319 - val_accuracy: 0.8317\n"
          ],
          "name": "stdout"
        }
      ]
    },
    {
      "cell_type": "code",
      "metadata": {
        "id": "2_o5q2eSzGBu",
        "colab": {
          "base_uri": "https://localhost:8080/",
          "height": 295
        },
        "outputId": "44f62850-bcfe-4cb8-8985-fc3d6bdf84c0"
      },
      "source": [
        "# PLot the model training History - Accuracy\n",
        "import matplotlib.pyplot as plt\n",
        "\n",
        "plt.plot(history.history['accuracy'], label='training')\n",
        "plt.plot(history.history['val_accuracy'], label='validation')\n",
        "plt.title('model 3D accuracy')\n",
        "plt.ylabel('accuracy')\n",
        "plt.xlabel('epoch')\n",
        "plt.legend(['train', 'val'], loc='upper left')\n",
        "plt.show()"
      ],
      "execution_count": null,
      "outputs": [
        {
          "output_type": "display_data",
          "data": {
            "image/png": "[encoded data removed]",
            "text/plain": [
              "<Figure size 432x288 with 1 Axes>"
            ]
          },
          "metadata": {
            "tags": [],
            "needs_background": "light"
          }
        }
      ]
    },
    {
      "cell_type": "code",
      "metadata": {
        "id": "ebcHsNIOzH0W",
        "colab": {
          "base_uri": "https://localhost:8080/",
          "height": 295
        },
        "outputId": "72def225-d4b3-40ed-f354-455447ae80ca"
      },
      "source": [
        "# PLot the model training History - Loss\n",
        "plt.plot(history.history['loss'])\n",
        "plt.plot(history.history['val_loss'])\n",
        "plt.title('model 3D loss')\n",
        "plt.ylabel('loss')\n",
        "plt.xlabel('epoch')\n",
        "plt.legend(['train', 'val'], loc='upper left')\n",
        "plt.show()"
      ],
      "execution_count": null,
      "outputs": [
        {
          "output_type": "display_data",
          "data": {
            "image/png": "[encoded data removed]",
            "text/plain": [
              "<Figure size 432x288 with 1 Axes>"
            ]
          },
          "metadata": {
            "tags": [],
            "needs_background": "light"
          }
        }
      ]
    },
    {
      "cell_type": "code",
      "metadata": {
        "id": "po_y-_IpzJ8Y"
      },
      "source": [
        "pred_3d = model_3d.predict(test_dataflow ) # Getting predicitons using the model\n",
        "pred_3d = np.argmax(pred_3d, 1) # predicting the class with the highest score as true or 1 "
      ],
      "execution_count": null,
      "outputs": []
    },
    {
      "cell_type": "code",
      "metadata": {
        "id": "fN98_k2xzMEC",
        "colab": {
          "base_uri": "https://localhost:8080/",
          "height": 840
        },
        "outputId": "a6606652-f456-4a15-b03d-5d52b76e0e45"
      },
      "source": [
        "from sklearn.metrics import classification_report\n",
        "\n",
        "print(classification_report(pred_3d, test_dataflow.classes, labels=np.unique(pred_3d)))"
      ],
      "execution_count": null,
      "outputs": [
        {
          "output_type": "stream",
          "text": [
            "              precision    recall  f1-score   support\n",
            "\n",
            "           0       0.95      0.95      0.95       184\n",
            "           1       0.25      0.83      0.38        24\n",
            "           2       0.95      0.94      0.95       467\n",
            "           3       0.96      1.00      0.98       206\n",
            "           4       1.00      1.00      1.00       307\n",
            "           5       0.91      0.97      0.94        76\n",
            "           6       1.00      0.96      0.98       105\n",
            "           7       0.98      0.97      0.97       176\n",
            "           8       1.00      1.00      1.00        74\n",
            "           9       0.97      0.79      0.87       290\n",
            "          10       0.99      0.99      0.99       674\n",
            "          11       0.93      0.88      0.91       173\n",
            "          12       0.77      0.89      0.83        46\n",
            "          13       0.92      0.90      0.91       142\n",
            "          14       0.91      0.68      0.78       109\n",
            "          15       0.70      0.96      0.81       104\n",
            "          16       0.71      0.66      0.69       137\n",
            "          17       0.94      0.97      0.96       118\n",
            "          18       0.97      0.97      0.97       204\n",
            "          19       0.80      0.87      0.83        60\n",
            "          20       0.58      0.86      0.69        35\n",
            "          22       0.93      0.96      0.94       103\n",
            "          24       0.64      0.64      0.64        58\n",
            "          25       0.95      0.81      0.87       557\n",
            "          27       0.94      0.97      0.96       759\n",
            "          28       0.79      0.56      0.66       110\n",
            "          29       0.55      0.76      0.64        66\n",
            "          30       0.68      0.68      0.68       488\n",
            "          31       0.94      0.90      0.92      1912\n",
            "          32       0.08      0.56      0.14         9\n",
            "          33       0.82      0.81      0.82       230\n",
            "          34       0.90      0.53      0.67       374\n",
            "          35       0.86      0.72      0.78       881\n",
            "          36       0.01      0.50      0.01         2\n",
            "          37       0.77      0.81      0.79       148\n",
            "          38       0.66      0.77      0.71       308\n",
            "          40       0.69      0.88      0.78       427\n",
            "          41       0.95      0.78      0.86       100\n",
            "          42       0.89      0.79      0.84       162\n",
            "          43       0.77      1.00      0.87        63\n",
            "          44       1.00      0.96      0.98        78\n",
            "          46       1.00      1.00      1.00         2\n",
            "\n",
            "   micro avg       0.86      0.86      0.86     10548\n",
            "   macro avg       0.81      0.84      0.81     10548\n",
            "weighted avg       0.89      0.86      0.87     10548\n",
            "\n"
          ],
          "name": "stdout"
        }
      ]
    },
    {
      "cell_type": "markdown",
      "metadata": {
        "id": "oUY0qmBXrYeq"
      },
      "source": [
        "### Saving Final Model"
      ]
    },
    {
      "cell_type": "code",
      "metadata": {
        "id": "meT80UOErQzR",
        "colab": {
          "base_uri": "https://localhost:8080/",
          "height": 34
        },
        "outputId": "0f4c1f97-b764-4379-f77b-6f152fda9170"
      },
      "source": [
        "model_3d.save('drive/My Drive/AT1B_final_model') # Save the model"
      ],
      "execution_count": null,
      "outputs": [
        {
          "output_type": "stream",
          "text": [
            "INFO:tensorflow:Assets written to: drive/My Drive/AT1B_final_model/assets\n"
          ],
          "name": "stdout"
        }
      ]
    },
    {
      "cell_type": "code",
      "metadata": {
        "id": "AQ3DzLiasgz2"
      },
      "source": [
        "load_model = tf.keras.models.load_model('drive/My Drive/AT1B_final_model')  # Load to see if it works"
      ],
      "execution_count": null,
      "outputs": []
    },
    {
      "cell_type": "code",
      "metadata": {
        "id": "Q8INFNg9tPUP",
        "colab": {
          "base_uri": "https://localhost:8080/",
          "height": 386
        },
        "outputId": "cc7d6a88-a45e-4a52-f9d6-3a7528fecb91"
      },
      "source": [
        "load_model.summary()      # Check Model Summary"
      ],
      "execution_count": null,
      "outputs": [
        {
          "output_type": "stream",
          "text": [
            "Model: \"sequential_17\"\n",
            "_________________________________________________________________\n",
            "Layer (type)                 Output Shape              Param #   \n",
            "=================================================================\n",
            "vgg16 (Model)                (None, 3, 3, 512)         14714688  \n",
            "_________________________________________________________________\n",
            "dropout_10 (Dropout)         (None, 3, 3, 512)         0         \n",
            "_________________________________________________________________\n",
            "flatten_17 (Flatten)         (None, 4608)              0         \n",
            "_________________________________________________________________\n",
            "dense_58 (Dense)             (None, 1028)              4738052   \n",
            "_________________________________________________________________\n",
            "dense_59 (Dense)             (None, 256)               263424    \n",
            "_________________________________________________________________\n",
            "dropout_11 (Dropout)         (None, 256)               0         \n",
            "_________________________________________________________________\n",
            "dense_60 (Dense)             (None, 47)                12079     \n",
            "=================================================================\n",
            "Total params: 19,728,243\n",
            "Trainable params: 19,728,243\n",
            "Non-trainable params: 0\n",
            "_________________________________________________________________\n"
          ],
          "name": "stdout"
        }
      ]
    }
  ]
}
